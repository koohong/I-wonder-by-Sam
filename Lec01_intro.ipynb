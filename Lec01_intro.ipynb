{
 "cells": [
  {
   "cell_type": "code",
   "execution_count": 36,
   "metadata": {},
   "outputs": [],
   "source": [
    "#install.packages('pracma')\n",
    "#install.packages('far')"
   ]
  },
  {
   "cell_type": "code",
   "execution_count": 1,
   "metadata": {},
   "outputs": [
    {
     "name": "stderr",
     "output_type": "stream",
     "text": [
      "Loading required package: nlme\n",
      "far library : Modelization for Functional AutoRegressive processes\n",
      "\n",
      "version 0.6-4 (2014-12-07)\n",
      "\n"
     ]
    }
   ],
   "source": [
    "#library(Matrix)\n",
    "library(far)\n",
    "library(MASS)\n",
    "library(pracma)"
   ]
  },
  {
   "cell_type": "markdown",
   "metadata": {},
   "source": [
    "<h2 style=\"color:blue'\"> Books used to prepare lecture notes </h2>\n",
    "    \n",
    "- Linear Algebra and its application by David C.Lay 4th edition \n",
    "- Linear and Nonlinear Programming by Stephen G. Nash and Ariela Sofer \n",
    "- The fundamental theorem of linear algebra, Strang, Gilbert\n",
    "\n",
    "And a few more books and papers."
   ]
  },
  {
   "cell_type": "markdown",
   "metadata": {},
   "source": [
    "<h3 style=\"color:green'\"> Terms you need to be already familiar with: </h3>\n",
    "\n",
    "vector, matrix, span, subspace, linear combination "
   ]
  },
  {
   "cell_type": "markdown",
   "metadata": {},
   "source": [
    "<h1 style=\"color:red'\"> Introduction </h1>\n",
    "\n",
    "- This lecture start talks about concepts in linear algebra that are considered as building blocks. <br><br> \n",
    "\n",
    "- You need to become familiar with the concepts like the way you use different methods you invoke on different types of python object. <Br><Br>\n",
    "    \n",
    "- Statistics is a function of sample that tells you certain information about the sample. Since vectors and matrices contain numbers, certain attributes of the vectors and matrices can be represented by a single number or sometimes number and a vector.  \n",
    "- After discussing important attribute of vectors and matrix, this lecture talks about some of the important numbers associated with vectors and matrix. These numbers tells you if certain operation can be invoked on them\n",
    "\n",
    "    \n",
    "- Objective, at the lecture three, the following sentence should make clear sense to you.\n",
    "    - When you span a vector or set of vectors, you get a subspace.  When you shift a subspace by a nonzero vector, you get a hyperplane, which can be used to express the solultion set of systems of equations where the number of column is greater than the row rank and RHS is in the span of C(A). \n",
    "\n",
    "\n",
    "<h2 style=\"color:blue'\"> Vector and their dependence </h2>\n",
    "\n",
    "- Let $\\vec{y}$, $\\vec{v_1}$ and $\\vec{v_2} \\in R^m$ (this refers to m dimensional space where each elements is real number)\n",
    "\n",
    "- Suppose you can express $\\vec{y}$ as linear combination of $\\vec{v_1}$ and $\\vec{v_2}$ \n",
    "\n",
    "$$\\vec{y} = c_1\\vec{v_1} +c_2\\vec{v_2}$$\n",
    "\n",
    "- $c_1$ and $c_2$ can be viewed as weight of $\\vec{v_1}$ and $\\vec{v_2}$  <br><br>\n",
    "\n",
    "- Above equestion is also saying that $\\vec{y}$ can be expressed as linear combination of $\\vec{v_1}$ and $\\vec{v_2}$ <br><Br>\n",
    "- Abvoe equation is also saying that $\\vec{y} \\in$ Span{$\\vec{v_1}$, $\\vec{v_2}$}\n",
    "\n",
    "\n",
    "\n",
    "- I will be using ```small letters``` to denote ```vectors``` <br><br>\n",
    "- ```Capital letters``` to denote ```matrix``` or ```subspace```\n",
    "\n",
    "\n",
    "\n",
    "\n"
   ]
  },
  {
   "cell_type": "markdown",
   "metadata": {},
   "source": [
    "<h2 style=\"color:blue'\"> Span of vectors and subspace </h2>\n",
    "\n",
    "- When you span a vector (or vectors), you get ```subspace```.\n",
    "    - Span{$\\vec{v_1}...\\vec{v_j}$} refers to set of all linear combination of $\\vec{v_1}...\\vec{v_j}$ where $\\vec{v_1}...\\vec{v_j} \\in R^n$\n",
    "    \n",
    "\n",
    "- Properties of subspace\n",
    "    - Contains $\\vec{0}$\n",
    "    - Closed under addition\n",
    "    - Closed under multiplication"
   ]
  },
  {
   "cell_type": "markdown",
   "metadata": {},
   "source": [
    "<h2 style=\"color:blue'\"> Matrix </h2>\n",
    "\n",
    "- The following matrix has m rows and n columns\n",
    "- $A \\in R^{mxn}$\n",
    "\\begin{equation}\n",
    "A = \\left(\n",
    "\\begin{array}{cccc}\n",
    "v_{1,1} & v_{1,2} & \\ldots & v_{1,n} \\\\\n",
    "v_{2,1} & v_{2,2} & \\ldots & v_{2,n} \\\\\n",
    "\\vdots & \\vdots & \\ddots & \\vdots \\\\\n",
    "v_{m,1} & v_{m,2} & \\ldots & v_{m,n}\n",
    "\\end{array}\n",
    "\\right)\n",
    "\\end{equation}\n",
    "\n",
    "<br>\n",
    "\n",
    "<h3 style=\"color:green'\">Row and column vectors </h3>\n",
    "- I will use $\\vec{v}$ and $\\vec{r}$ to refer column and row vectors, respectively.\n",
    "     - in indexing column vectors, I will use <b>j</b>\n",
    "     - in indexing row vectors, I will use <b>i</b>\n",
    "     \n",
    "     \n",
    " $$A\\vec{x} = \\vec{b}$$ \n",
    "- $\\vec{x}$ tells you the linear combination of column vectors of **A** that will give you $\\vec{b}$\n",
    "    \n",
    "    \n",
    "  $$\\vec{y}A = \\vec{c}$$ \n",
    "- $\\vec{y}$ tells you the linear combination of row vectors of **A** that will give you $\\vec{c}$"
   ]
  },
  {
   "cell_type": "markdown",
   "metadata": {},
   "source": [
    "<h3 style=\"color:green'\"> Partitioned Matrices </h3>\n",
    "\n",
    "- $A \\in R^{mxn}$\n",
    "\\begin{equation}\n",
    "A = \\left(\n",
    "\\begin{array}{right}\n",
    "3 & 0 & -1 & 5 & 9 & -2 \\\\\n",
    "-5 & 2 & 4 & 0 & -3 & 1 \\\\\n",
    "-8 & -6 & 3 & 1 & 7 & -4 \n",
    "\\end{array}\n",
    "\\right)\n",
    "\\end{equation}\n",
    "<br><br>\n",
    "\n",
    "$$\n",
    "\\begin{equation}\n",
    "A = \\left(\n",
    "\\begin{array}{right}\n",
    "A_{11} & A_{12} & A_{13} \\\\\n",
    "A_{21} & A_{22} & A_{23}\n",
    "\\end{array}\n",
    "\\right)\n",
    "\\end{equation}$$\n",
    "\n",
    "- $B \\in R^{nxk}$\n",
    "\\begin{equation}\n",
    "B = \\left(\n",
    "\\begin{array}{right}\n",
    "6 & 4 \\\\\n",
    "-2 & 1 \\\\\n",
    "-3 & 7 \\\\\n",
    "-1 & 3 \\\\\n",
    "5 & 2 \n",
    "\\end{array}\n",
    "\\right)\n",
    "\\end{equation}\n",
    "<br><br>\n",
    "\n",
    "$$\n",
    "\\begin{equation}\n",
    "B = \\left(\n",
    "\\begin{array}{right}\n",
    "B_{1} \\\\\n",
    "B_{2} \n",
    "\\end{array}\n",
    "\\right)\n",
    "\\end{equation}$$\n",
    "\n"
   ]
  },
  {
   "cell_type": "code",
   "execution_count": 2,
   "metadata": {},
   "outputs": [
    {
     "name": "stdout",
     "output_type": "stream",
     "text": [
      "     [,1] [,2] [,3]\n",
      "[1,]    3    0   -1\n",
      "[2,]   -5    2    4\n",
      "     [,1] [,2]\n",
      "[1,]    5    9\n",
      "[2,]    0    3\n",
      "     [,1] [,2] [,3]\n",
      "[1,]   -8   -6    3\n",
      "     [,1] [,2]\n",
      "[1,]    1    7\n"
     ]
    }
   ],
   "source": [
    "A11 <- matrix(c(3,0,-1,-5,2,4),nrow=2,byrow=T)\n",
    "A12 <- matrix(c(5,9,0,3),nrow=2,byrow=T)\n",
    "A13 <- matrix(c(-2,1),nrow=2,byrow=T)\n",
    "A21 <- matrix(c(-8,-6,3),nrow=1,byrow=T)\n",
    "A22 <- matrix(c(1,7),nrow=1,byrow=T)\n",
    "A23 <- matrix(c(-4),nrow=1,byrow=T)\n",
    "\n",
    "print(A11)\n",
    "print(A12)\n",
    "print(A21)\n",
    "print(A22)"
   ]
  },
  {
   "cell_type": "code",
   "execution_count": 3,
   "metadata": {},
   "outputs": [
    {
     "name": "stdout",
     "output_type": "stream",
     "text": [
      "     [,1] [,2]\n",
      "[1,]    6    4\n",
      "[2,]   -2    1\n",
      "[3,]   -3    7\n",
      "     [,1] [,2]\n",
      "[1,]   -1    3\n",
      "[2,]    5    2\n"
     ]
    }
   ],
   "source": [
    "#######################################3\n",
    "B1 <- matrix(c(6,4,-2,1,-3,7),nrow=3,byrow=T)\n",
    "B2 <- matrix(c(-1,3,5,2),nrow=2,byrow=T)\n",
    "\n",
    "print(B1)\n",
    "print(B2)"
   ]
  },
  {
   "cell_type": "markdown",
   "metadata": {},
   "source": [
    "<center>\n",
    "$\n",
    "\\begin{equation}\n",
    "AB = \\left(\n",
    "\\begin{array}{right}\n",
    "A_{11} & A_{12} \\\\\n",
    "A_{21} & A_{22}\n",
    "\\end{array}\n",
    "\\right)\n",
    "\\end{equation}$\n",
    "$\n",
    "\\begin{equation}\n",
    " \\left(\n",
    "\\begin{array}{right}\n",
    "B_{1} \\\\\n",
    "B_{2} \n",
    "\\end{array}\n",
    "\\right)\n",
    "\\end{equation}$\n",
    "$\n",
    "\\begin{equation} \n",
    "= \\left(\n",
    "\\begin{array}{right}\n",
    "A_{11}B_1 & A_{12}B_2 \\\\\n",
    "A_{21}B_1 & A_{22}B2\n",
    "\\end{array}\n",
    "\\right)\n",
    "\\end{equation}$\n",
    "    \n",
    "</center>"
   ]
  },
  {
   "cell_type": "code",
   "execution_count": 4,
   "metadata": {},
   "outputs": [
    {
     "name": "stdout",
     "output_type": "stream",
     "text": [
      "     [,1] [,2]\n",
      "[1,]   -5    4\n",
      "[2,]   -6    2\n",
      "[3,]    2    1\n"
     ]
    }
   ],
   "source": [
    "AB <- matrix(c(-5,4,-6,2,2,1), nrow=3,byrow=T)\n",
    "print(AB)"
   ]
  },
  {
   "cell_type": "markdown",
   "metadata": {},
   "source": [
    "<h3 style=\"color:green'\"> Matrix multiplication </h3>"
   ]
  },
  {
   "cell_type": "code",
   "execution_count": 5,
   "metadata": {},
   "outputs": [
    {
     "data": {
      "text/html": [
       "<ol class=list-inline>\n",
       "\t<li>1</li>\n",
       "\t<li>2</li>\n",
       "\t<li>4</li>\n",
       "</ol>\n"
      ],
      "text/latex": [
       "\\begin{enumerate*}\n",
       "\\item 1\n",
       "\\item 2\n",
       "\\item 4\n",
       "\\end{enumerate*}\n"
      ],
      "text/markdown": [
       "1. 1\n",
       "2. 2\n",
       "3. 4\n",
       "\n",
       "\n"
      ],
      "text/plain": [
       "[1] 1 2 4"
      ]
     },
     "metadata": {},
     "output_type": "display_data"
    }
   ],
   "source": [
    "r_1 <- c(1,2,4)\n",
    "r_1"
   ]
  },
  {
   "cell_type": "code",
   "execution_count": 6,
   "metadata": {},
   "outputs": [
    {
     "data": {
      "text/html": [
       "<ol class=list-inline>\n",
       "\t<li>2</li>\n",
       "\t<li>3</li>\n",
       "\t<li>4</li>\n",
       "\t<li>5</li>\n",
       "\t<li>6</li>\n",
       "\t<li>7</li>\n",
       "</ol>\n"
      ],
      "text/latex": [
       "\\begin{enumerate*}\n",
       "\\item 2\n",
       "\\item 3\n",
       "\\item 4\n",
       "\\item 5\n",
       "\\item 6\n",
       "\\item 7\n",
       "\\end{enumerate*}\n"
      ],
      "text/markdown": [
       "1. 2\n",
       "2. 3\n",
       "3. 4\n",
       "4. 5\n",
       "5. 6\n",
       "6. 7\n",
       "\n",
       "\n"
      ],
      "text/plain": [
       "[1] 2 3 4 5 6 7"
      ]
     },
     "metadata": {},
     "output_type": "display_data"
    }
   ],
   "source": [
    "b <- c(2,3,4,5,6,7)\n",
    "b"
   ]
  },
  {
   "cell_type": "code",
   "execution_count": 7,
   "metadata": {},
   "outputs": [
    {
     "data": {
      "text/html": [
       "<table>\n",
       "<caption>A matrix: 2 × 3 of type dbl</caption>\n",
       "<tbody>\n",
       "\t<tr><td>2</td><td>3</td><td>4</td></tr>\n",
       "\t<tr><td>5</td><td>6</td><td>7</td></tr>\n",
       "</tbody>\n",
       "</table>\n"
      ],
      "text/latex": [
       "A matrix: 2 × 3 of type dbl\n",
       "\\begin{tabular}{lll}\n",
       "\t 2 & 3 & 4\\\\\n",
       "\t 5 & 6 & 7\\\\\n",
       "\\end{tabular}\n"
      ],
      "text/markdown": [
       "\n",
       "A matrix: 2 × 3 of type dbl\n",
       "\n",
       "| 2 | 3 | 4 |\n",
       "| 5 | 6 | 7 |\n",
       "\n"
      ],
      "text/plain": [
       "     [,1] [,2] [,3]\n",
       "[1,] 2    3    4   \n",
       "[2,] 5    6    7   "
      ]
     },
     "metadata": {},
     "output_type": "display_data"
    }
   ],
   "source": [
    "B <- matrix(b, nrow=2, ncol =3, byrow =T)\n",
    "B"
   ]
  },
  {
   "cell_type": "code",
   "execution_count": 8,
   "metadata": {},
   "outputs": [
    {
     "data": {
      "text/html": [
       "<table>\n",
       "<caption>A matrix: 2 × 1 of type dbl</caption>\n",
       "<tbody>\n",
       "\t<tr><td>20</td></tr>\n",
       "\t<tr><td>38</td></tr>\n",
       "</tbody>\n",
       "</table>\n"
      ],
      "text/latex": [
       "A matrix: 2 × 1 of type dbl\n",
       "\\begin{tabular}{l}\n",
       "\t 20\\\\\n",
       "\t 38\\\\\n",
       "\\end{tabular}\n"
      ],
      "text/markdown": [
       "\n",
       "A matrix: 2 × 1 of type dbl\n",
       "\n",
       "| 20 |\n",
       "| 38 |\n",
       "\n"
      ],
      "text/plain": [
       "     [,1]\n",
       "[1,] 20  \n",
       "[2,] 38  "
      ]
     },
     "metadata": {},
     "output_type": "display_data"
    }
   ],
   "source": [
    "A <- matrix(c(1,2,3),nrow=1)\n",
    "B%*%t(A) #matrix multiplcation, t(A) is transpose of A"
   ]
  },
  {
   "cell_type": "code",
   "execution_count": 9,
   "metadata": {},
   "outputs": [
    {
     "data": {
      "text/html": [
       "<ol class=list-inline>\n",
       "\t<li>2</li>\n",
       "\t<li>4</li>\n",
       "</ol>\n"
      ],
      "text/latex": [
       "\\begin{enumerate*}\n",
       "\\item 2\n",
       "\\item 4\n",
       "\\end{enumerate*}\n"
      ],
      "text/markdown": [
       "1. 2\n",
       "2. 4\n",
       "\n",
       "\n"
      ],
      "text/plain": [
       "[1] 2 4"
      ]
     },
     "metadata": {},
     "output_type": "display_data"
    }
   ],
   "source": [
    "B[1,-2] # selecting the first row without the second column"
   ]
  },
  {
   "cell_type": "code",
   "execution_count": 10,
   "metadata": {},
   "outputs": [
    {
     "data": {
      "text/html": [
       "<ol class=list-inline>\n",
       "\t<li>2</li>\n",
       "\t<li>3</li>\n",
       "\t<li>4</li>\n",
       "</ol>\n"
      ],
      "text/latex": [
       "\\begin{enumerate*}\n",
       "\\item 2\n",
       "\\item 3\n",
       "\\item 4\n",
       "\\end{enumerate*}\n"
      ],
      "text/markdown": [
       "1. 2\n",
       "2. 3\n",
       "3. 4\n",
       "\n",
       "\n"
      ],
      "text/plain": [
       "[1] 2 3 4"
      ]
     },
     "metadata": {},
     "output_type": "display_data"
    }
   ],
   "source": [
    "B[1,]"
   ]
  },
  {
   "cell_type": "code",
   "execution_count": 11,
   "metadata": {},
   "outputs": [
    {
     "data": {
      "text/html": [
       "<table>\n",
       "<caption>A matrix: 3 × 3 of type dbl</caption>\n",
       "<tbody>\n",
       "\t<tr><td> 2</td><td> 3</td><td> 4</td></tr>\n",
       "\t<tr><td> 5</td><td> 6</td><td> 7</td></tr>\n",
       "\t<tr><td>10</td><td>20</td><td>30</td></tr>\n",
       "</tbody>\n",
       "</table>\n"
      ],
      "text/latex": [
       "A matrix: 3 × 3 of type dbl\n",
       "\\begin{tabular}{lll}\n",
       "\t  2 &  3 &  4\\\\\n",
       "\t  5 &  6 &  7\\\\\n",
       "\t 10 & 20 & 30\\\\\n",
       "\\end{tabular}\n"
      ],
      "text/markdown": [
       "\n",
       "A matrix: 3 × 3 of type dbl\n",
       "\n",
       "|  2 |  3 |  4 |\n",
       "|  5 |  6 |  7 |\n",
       "| 10 | 20 | 30 |\n",
       "\n"
      ],
      "text/plain": [
       "     [,1] [,2] [,3]\n",
       "[1,]  2    3    4  \n",
       "[2,]  5    6    7  \n",
       "[3,] 10   20   30  "
      ]
     },
     "metadata": {},
     "output_type": "display_data"
    }
   ],
   "source": [
    "d <- matrix(c(10,20,30),nrow=1)\n",
    "rbind(B,d)"
   ]
  },
  {
   "cell_type": "code",
   "execution_count": 12,
   "metadata": {},
   "outputs": [
    {
     "data": {
      "text/html": [
       "<table>\n",
       "<caption>A matrix: 2 × 4 of type dbl</caption>\n",
       "<tbody>\n",
       "\t<tr><td>2</td><td>3</td><td>4</td><td>100</td></tr>\n",
       "\t<tr><td>5</td><td>6</td><td>7</td><td>200</td></tr>\n",
       "</tbody>\n",
       "</table>\n"
      ],
      "text/latex": [
       "A matrix: 2 × 4 of type dbl\n",
       "\\begin{tabular}{llll}\n",
       "\t 2 & 3 & 4 & 100\\\\\n",
       "\t 5 & 6 & 7 & 200\\\\\n",
       "\\end{tabular}\n"
      ],
      "text/markdown": [
       "\n",
       "A matrix: 2 × 4 of type dbl\n",
       "\n",
       "| 2 | 3 | 4 | 100 |\n",
       "| 5 | 6 | 7 | 200 |\n",
       "\n"
      ],
      "text/plain": [
       "     [,1] [,2] [,3] [,4]\n",
       "[1,] 2    3    4    100 \n",
       "[2,] 5    6    7    200 "
      ]
     },
     "metadata": {},
     "output_type": "display_data"
    }
   ],
   "source": [
    "e <- matrix(c(100,200),nrow=2)\n",
    "cbind(B,e)"
   ]
  },
  {
   "cell_type": "markdown",
   "metadata": {},
   "source": [
    "<h3 style=\"color:green'\"> Vector and their dependence </h3>\n",
    "\n",
    "- Let $c$ be nonzero real number, and $\\vec{y}$ and $\\vec{v_1}$ nonzero vector.\n",
    "\n",
    "  - if $\\vec{y} \\notin c\\vec{v_1}$ then, $\\vec{y}$ and $\\vec{v_1}$ are independent \n",
    "\n",
    "\n",
    "\n",
    "-  Let $c_1, c_2 .. c_n$ are not all nonzero real number, and $\\vec{y}$ and $\\vec{v_1}..\\vec{v_n}$ are not all nonzero vector.\n",
    "\n",
    "  - if $\\vec{y} \\notin$ Span{$\\vec{v_1}, .. \\vec{v_n}$}, then, $\\vec{y}$ is not in the subspace spanned by $\\vec{v_1}, .. \\vec{v_n}$"
   ]
  },
  {
   "cell_type": "markdown",
   "metadata": {},
   "source": [
    "<h1  style=\"color:red '\"> Norm of a vector  </h1>\n",
    "\n",
    "- Norm is extremly important concept and there number of different norms.  <br><Br>\n",
    "\n",
    "- Norm is a function that takes $\\vec{v} \\in R^n$ where n is any positive number, and returns $R^1$ <Br><Br>\n",
    "\n",
    "- The process of rescaling a vector to make its norm = 1 is called normalizing\n",
    "  - divide $\\vec{v}$ by its norm, ||$\\vec{v}$||"
   ]
  },
  {
   "cell_type": "markdown",
   "metadata": {},
   "source": [
    "<h3 style=\"color:green'\"> Basis, Orthogonal basis, and Orthonormal basis <h3 style=\"color:green'\">\n",
    "\n",
    "### Basis\n",
    "- Basis refers to minimum set of vectors to span a subspace or space.\n",
    "    - Basis are independent of each other\n",
    "    - For a given subspace or space, there are $\\infty$ number of set of basis\n",
    "    - Basis are not unique.\n",
    "    \n",
    "### Orthogonal basis\n",
    "- Refers to basis that are orthogonal to each other\n",
    "- $\\vec{v_1}$ and $\\vec{v_2}$ are orthogonal, if $\\vec{v_1}\\vec{v_2} = 0$\n",
    "- $\\vec{v}$$\\vec{v}^{\\perp}=0$ \n",
    "\n",
    "### Orthonormal basis\n",
    "- basis that are \n",
    "  - orthogonal\n",
    "  - < $\\vec{v_i}$,$\\vec{v_i}$ > = 1  for all basis"
   ]
  },
  {
   "cell_type": "markdown",
   "metadata": {},
   "source": [
    "<h1 style=\"color:red'\"> Properties of matrix </h1>\n",
    "\n",
    "<h2 style=\"color:blue'\"> Singular and nonsigular matrix </h2>\n",
    "\n",
    "- For a matrix to be invertible, $A$ must satisfy the following conditions\n",
    "  - $A$ is square matrix\n",
    "  - All columns of <b>A</b> are independent (this is the same as saying \"All the rows of $A$ are independent\" since $A$ is square matrix)\n",
    "\n",
    "- if $A^{-1}$ exists, then\n",
    "    $A^{-1}A = I$ and $AA^{-1} = 1$\n",
    "    \n",
    "- Invertible matrix is called a <b>```nonsingular matrix```</b>\n",
    "- A matrix that is not invertible is called <b>```singular matrix```</b> ."
   ]
  },
  {
   "cell_type": "markdown",
   "metadata": {},
   "source": [
    "<h2 style=\"color:blue'\"> Symmtric matrix </h2>\n",
    "\n",
    "$$A^T = A$$\n",
    "\n",
    "- Symmetric matrix has really nice properties and play very important role in eigenvalue analysis and pca.\n",
    "- Question to think about:\n",
    "  - Is symmetric matrix always sqaure?\n",
    "  - Will symmetirc matrix always be invertible?"
   ]
  },
  {
   "cell_type": "markdown",
   "metadata": {},
   "source": [
    "<h1 style =\"color:red'\"> Fundamental Four subspaces in Linear Algebra </h1>\n",
    "\n",
    "- If I choose, the most important picture in LA, this is it.\n",
    "- source: Strang, Gilbert \"The fundamental theorem of linear algebra\" (1993)\n",
    "- Term **Input space** and **Output space** is not really widely used term.\n",
    "- What I refer **Input space** is called **domain** and **Output space** is called **codomain**\n",
    "\n",
    "<img src=\"subspaces.JPG\" alt=\"drawing\" width=\"600\"/>\n",
    "\n"
   ]
  },
  {
   "cell_type": "code",
   "execution_count": 13,
   "metadata": {},
   "outputs": [
    {
     "data": {
      "text/html": [
       "<table>\n",
       "<caption>A matrix: 3 × 5 of type dbl</caption>\n",
       "<tbody>\n",
       "\t<tr><td>-3</td><td> 6</td><td>-1</td><td>1</td><td>-7</td></tr>\n",
       "\t<tr><td> 1</td><td>-2</td><td> 2</td><td>3</td><td>-1</td></tr>\n",
       "\t<tr><td> 2</td><td>-4</td><td> 5</td><td>8</td><td>-4</td></tr>\n",
       "</tbody>\n",
       "</table>\n"
      ],
      "text/latex": [
       "A matrix: 3 × 5 of type dbl\n",
       "\\begin{tabular}{lllll}\n",
       "\t -3 &  6 & -1 & 1 & -7\\\\\n",
       "\t  1 & -2 &  2 & 3 & -1\\\\\n",
       "\t  2 & -4 &  5 & 8 & -4\\\\\n",
       "\\end{tabular}\n"
      ],
      "text/markdown": [
       "\n",
       "A matrix: 3 × 5 of type dbl\n",
       "\n",
       "| -3 |  6 | -1 | 1 | -7 |\n",
       "|  1 | -2 |  2 | 3 | -1 |\n",
       "|  2 | -4 |  5 | 8 | -4 |\n",
       "\n"
      ],
      "text/plain": [
       "     [,1] [,2] [,3] [,4] [,5]\n",
       "[1,] -3    6   -1   1    -7  \n",
       "[2,]  1   -2    2   3    -1  \n",
       "[3,]  2   -4    5   8    -4  "
      ]
     },
     "metadata": {},
     "output_type": "display_data"
    }
   ],
   "source": [
    "a1 <- c(-3,6,-1,1,-7)\n",
    "a2 <- c(1,-2,2,3,-1)\n",
    "a3 <-  c(2,-4,5,8,-4)\n",
    "\n",
    "a <- c(a1,a2,a3)\n",
    "\n",
    "A <- matrix(a,nrow=3,byrow=T)\n",
    "A\n"
   ]
  },
  {
   "cell_type": "code",
   "execution_count": 14,
   "metadata": {},
   "outputs": [
    {
     "data": {
      "text/html": [
       "2"
      ],
      "text/latex": [
       "2"
      ],
      "text/markdown": [
       "2"
      ],
      "text/plain": [
       "[1] 2"
      ]
     },
     "metadata": {},
     "output_type": "display_data"
    }
   ],
   "source": [
    "Rank(A)"
   ]
  },
  {
   "cell_type": "code",
   "execution_count": 15,
   "metadata": {},
   "outputs": [
    {
     "data": {
      "text/html": [
       "<table>\n",
       "<caption>A matrix: 3 × 2 of type dbl</caption>\n",
       "<tbody>\n",
       "\t<tr><td> 0.03354216</td><td> 0.99686846</td></tr>\n",
       "\t<tr><td>-0.36102371</td><td>-0.05472854</td></tr>\n",
       "\t<tr><td>-0.93195322</td><td> 0.05707950</td></tr>\n",
       "</tbody>\n",
       "</table>\n"
      ],
      "text/latex": [
       "A matrix: 3 × 2 of type dbl\n",
       "\\begin{tabular}{ll}\n",
       "\t  0.03354216 &  0.99686846\\\\\n",
       "\t -0.36102371 & -0.05472854\\\\\n",
       "\t -0.93195322 &  0.05707950\\\\\n",
       "\\end{tabular}\n"
      ],
      "text/markdown": [
       "\n",
       "A matrix: 3 × 2 of type dbl\n",
       "\n",
       "|  0.03354216 |  0.99686846 |\n",
       "| -0.36102371 | -0.05472854 |\n",
       "| -0.93195322 |  0.05707950 |\n",
       "\n"
      ],
      "text/plain": [
       "     [,1]        [,2]       \n",
       "[1,]  0.03354216  0.99686846\n",
       "[2,] -0.36102371 -0.05472854\n",
       "[3,] -0.93195322  0.05707950"
      ]
     },
     "metadata": {},
     "output_type": "display_data"
    }
   ],
   "source": [
    "#Orthonormal basis of C(A)\n",
    "orth(A)"
   ]
  },
  {
   "cell_type": "code",
   "execution_count": 16,
   "metadata": {},
   "outputs": [
    {
     "data": {
      "text/html": [
       "<table>\n",
       "<caption>A matrix: 5 × 3 of type dbl</caption>\n",
       "<tbody>\n",
       "\t<tr><td> 0.04416189</td><td> 0.3476413</td><td>-0.86627634</td></tr>\n",
       "\t<tr><td> 0.41326313</td><td> 0.5658536</td><td>-0.04450838</td></tr>\n",
       "\t<tr><td> 0.85611211</td><td>-0.2202874</td><td> 0.08531064</td></tr>\n",
       "\t<tr><td>-0.25090190</td><td> 0.5572485</td><td> 0.32464681</td></tr>\n",
       "\t<tr><td> 0.17715416</td><td> 0.4471048</td><td> 0.36730213</td></tr>\n",
       "</tbody>\n",
       "</table>\n"
      ],
      "text/latex": [
       "A matrix: 5 × 3 of type dbl\n",
       "\\begin{tabular}{lll}\n",
       "\t  0.04416189 &  0.3476413 & -0.86627634\\\\\n",
       "\t  0.41326313 &  0.5658536 & -0.04450838\\\\\n",
       "\t  0.85611211 & -0.2202874 &  0.08531064\\\\\n",
       "\t -0.25090190 &  0.5572485 &  0.32464681\\\\\n",
       "\t  0.17715416 &  0.4471048 &  0.36730213\\\\\n",
       "\\end{tabular}\n"
      ],
      "text/markdown": [
       "\n",
       "A matrix: 5 × 3 of type dbl\n",
       "\n",
       "|  0.04416189 |  0.3476413 | -0.86627634 |\n",
       "|  0.41326313 |  0.5658536 | -0.04450838 |\n",
       "|  0.85611211 | -0.2202874 |  0.08531064 |\n",
       "| -0.25090190 |  0.5572485 |  0.32464681 |\n",
       "|  0.17715416 |  0.4471048 |  0.36730213 |\n",
       "\n"
      ],
      "text/plain": [
       "     [,1]        [,2]       [,3]       \n",
       "[1,]  0.04416189  0.3476413 -0.86627634\n",
       "[2,]  0.41326313  0.5658536 -0.04450838\n",
       "[3,]  0.85611211 -0.2202874  0.08531064\n",
       "[4,] -0.25090190  0.5572485  0.32464681\n",
       "[5,]  0.17715416  0.4471048  0.36730213"
      ]
     },
     "metadata": {},
     "output_type": "display_data"
    }
   ],
   "source": [
    "#Orthonormal basis of N(A)\n",
    "null_s <- nullspace(A)\n",
    "null_s"
   ]
  },
  {
   "cell_type": "code",
   "execution_count": 17,
   "metadata": {},
   "outputs": [
    {
     "data": {
      "text/html": [
       "<table>\n",
       "<caption>A matrix: 5 × 3 of type dbl</caption>\n",
       "<tbody>\n",
       "\t<tr><td> 0.04416189</td><td> 0.3476413</td><td>-0.86627634</td></tr>\n",
       "\t<tr><td> 0.41326313</td><td> 0.5658536</td><td>-0.04450838</td></tr>\n",
       "\t<tr><td> 0.85611211</td><td>-0.2202874</td><td> 0.08531064</td></tr>\n",
       "\t<tr><td>-0.25090190</td><td> 0.5572485</td><td> 0.32464681</td></tr>\n",
       "\t<tr><td> 0.17715416</td><td> 0.4471048</td><td> 0.36730213</td></tr>\n",
       "</tbody>\n",
       "</table>\n"
      ],
      "text/latex": [
       "A matrix: 5 × 3 of type dbl\n",
       "\\begin{tabular}{lll}\n",
       "\t  0.04416189 &  0.3476413 & -0.86627634\\\\\n",
       "\t  0.41326313 &  0.5658536 & -0.04450838\\\\\n",
       "\t  0.85611211 & -0.2202874 &  0.08531064\\\\\n",
       "\t -0.25090190 &  0.5572485 &  0.32464681\\\\\n",
       "\t  0.17715416 &  0.4471048 &  0.36730213\\\\\n",
       "\\end{tabular}\n"
      ],
      "text/markdown": [
       "\n",
       "A matrix: 5 × 3 of type dbl\n",
       "\n",
       "|  0.04416189 |  0.3476413 | -0.86627634 |\n",
       "|  0.41326313 |  0.5658536 | -0.04450838 |\n",
       "|  0.85611211 | -0.2202874 |  0.08531064 |\n",
       "| -0.25090190 |  0.5572485 |  0.32464681 |\n",
       "|  0.17715416 |  0.4471048 |  0.36730213 |\n",
       "\n"
      ],
      "text/plain": [
       "     [,1]        [,2]       [,3]       \n",
       "[1,]  0.04416189  0.3476413 -0.86627634\n",
       "[2,]  0.41326313  0.5658536 -0.04450838\n",
       "[3,]  0.85611211 -0.2202874  0.08531064\n",
       "[4,] -0.25090190  0.5572485  0.32464681\n",
       "[5,]  0.17715416  0.4471048  0.36730213"
      ]
     },
     "metadata": {},
     "output_type": "display_data"
    }
   ],
   "source": [
    "#Orthonormal basis of N(A)\n",
    "null(A)"
   ]
  },
  {
   "cell_type": "markdown",
   "metadata": {},
   "source": [
    "### Checking the nullspace"
   ]
  },
  {
   "cell_type": "code",
   "execution_count": 18,
   "metadata": {},
   "outputs": [
    {
     "data": {
      "text/html": [
       "<table>\n",
       "<caption>A matrix: 3 × 1 of type dbl</caption>\n",
       "<tbody>\n",
       "\t<tr><td>0</td></tr>\n",
       "\t<tr><td>0</td></tr>\n",
       "\t<tr><td>0</td></tr>\n",
       "</tbody>\n",
       "</table>\n"
      ],
      "text/latex": [
       "A matrix: 3 × 1 of type dbl\n",
       "\\begin{tabular}{l}\n",
       "\t 0\\\\\n",
       "\t 0\\\\\n",
       "\t 0\\\\\n",
       "\\end{tabular}\n"
      ],
      "text/markdown": [
       "\n",
       "A matrix: 3 × 1 of type dbl\n",
       "\n",
       "| 0 |\n",
       "| 0 |\n",
       "| 0 |\n",
       "\n"
      ],
      "text/plain": [
       "     [,1]\n",
       "[1,] 0   \n",
       "[2,] 0   \n",
       "[3,] 0   "
      ]
     },
     "metadata": {},
     "output_type": "display_data"
    }
   ],
   "source": [
    "round(A%*%null_s[,1],-2)\n"
   ]
  },
  {
   "cell_type": "code",
   "execution_count": 19,
   "metadata": {},
   "outputs": [
    {
     "data": {
      "text/html": [
       "<table>\n",
       "<caption>A matrix: 3 × 1 of type dbl</caption>\n",
       "<tbody>\n",
       "\t<tr><td>0</td></tr>\n",
       "\t<tr><td>0</td></tr>\n",
       "\t<tr><td>0</td></tr>\n",
       "</tbody>\n",
       "</table>\n"
      ],
      "text/latex": [
       "A matrix: 3 × 1 of type dbl\n",
       "\\begin{tabular}{l}\n",
       "\t 0\\\\\n",
       "\t 0\\\\\n",
       "\t 0\\\\\n",
       "\\end{tabular}\n"
      ],
      "text/markdown": [
       "\n",
       "A matrix: 3 × 1 of type dbl\n",
       "\n",
       "| 0 |\n",
       "| 0 |\n",
       "| 0 |\n",
       "\n"
      ],
      "text/plain": [
       "     [,1]\n",
       "[1,] 0   \n",
       "[2,] 0   \n",
       "[3,] 0   "
      ]
     },
     "metadata": {},
     "output_type": "display_data"
    }
   ],
   "source": [
    "round(A%*%null_s[,2],-2)\n"
   ]
  },
  {
   "cell_type": "code",
   "execution_count": 20,
   "metadata": {},
   "outputs": [
    {
     "data": {
      "text/html": [
       "<table>\n",
       "<caption>A matrix: 1 × 1 of type dbl</caption>\n",
       "<tbody>\n",
       "\t<tr><td>0</td></tr>\n",
       "</tbody>\n",
       "</table>\n"
      ],
      "text/latex": [
       "A matrix: 1 × 1 of type dbl\n",
       "\\begin{tabular}{l}\n",
       "\t 0\\\\\n",
       "\\end{tabular}\n"
      ],
      "text/markdown": [
       "\n",
       "A matrix: 1 × 1 of type dbl\n",
       "\n",
       "| 0 |\n",
       "\n"
      ],
      "text/plain": [
       "     [,1]\n",
       "[1,] 0   "
      ]
     },
     "metadata": {},
     "output_type": "display_data"
    }
   ],
   "source": [
    "round(null_s[,1]%*%null_s[,2])  #basis are orthogonal"
   ]
  },
  {
   "cell_type": "code",
   "execution_count": 21,
   "metadata": {},
   "outputs": [
    {
     "data": {
      "text/html": [
       "1"
      ],
      "text/latex": [
       "1"
      ],
      "text/markdown": [
       "1"
      ],
      "text/plain": [
       "[1] 1"
      ]
     },
     "metadata": {},
     "output_type": "display_data"
    }
   ],
   "source": [
    "Norm(null_s[,1]) #and normal"
   ]
  },
  {
   "cell_type": "markdown",
   "metadata": {},
   "source": [
    "<h2 style=\"color:blue'\"> Rank and Nullity Theorem </h2>\n",
    "\n",
    "### If $A$ has ```n``` columns, then rank $A$ + dim(Nul $A$) = $n$\n",
    "\n",
    "- ```column rank``` refers to the number of basis spanning the ```column space```\n",
    "- ```row rank``` refers to the number of basis spanning the ```row space```\n",
    "- column rank and row rank are always the same\n",
    "- ```nullity``` refers to the number of basis spanning the ```nullspace```.\n"
   ]
  },
  {
   "cell_type": "markdown",
   "metadata": {},
   "source": [
    "### Let $A$ be invertible matrix $\\in R^{nxn}$, then, we can say the following about $A$\n",
    "\n",
    "- The columns of $A$ form a basis of $R^n$\n",
    "- Col $A$ = n\n",
    "- rank $A$ = n\n",
    "- Nul $A$ = {$\\vec{0}$}\n",
    "- dim Nul $A$ = 0"
   ]
  },
  {
   "cell_type": "markdown",
   "metadata": {},
   "source": [
    "<h2 style=\"color:blue'\"> Types of equations </h2>\n",
    "\n",
    "## Homogeneous and Inhomogeneous equations\n",
    "\n",
    "$$A\\vec{x} = \\vec{b}$$  \n",
    "$$A\\vec{x} = \\vec{0}$$"
   ]
  },
  {
   "cell_type": "markdown",
   "metadata": {},
   "source": [
    "## Systems of equations can be consistent and inconsistent\n",
    "\n",
    "### Consistent, $A\\vec{x} = \\vec{b}$ , there exist $\\vec{x}$ for nonzero $\\vec{b}$\n",
    "(1) One solution case\n",
    "  - $A^{-1}$ exist \n",
    "<br>\n",
    "\n",
    "(2) Many solution case\n",
    "  - $\\vec{x}_p$ + $N(A)$ where $\\vec{x}_p$ is a particular solution and $N(A)$ is nullspace of $A$\n",
    "  \n",
    "### Inconsistent, $A\\vec{x} \\neq \\vec{b}$ , there exist no $\\vec{x}$ for nonzero $\\vec{b}$\n",
    "  - Get the column basis of $A$\n",
    "  - Develop projection matrix\n",
    "  - project $\\vec{b}$ onto the column space of $A$\n",
    "  - You get the same result in OLS.  The coefficients from OLS is the coordinate of the basis for the $\\vec{b}$ projected onto the column space of $A$"
   ]
  },
  {
   "cell_type": "markdown",
   "metadata": {},
   "source": [
    "## Reduced Row Echelon Form (rref)\n",
    "\n",
    "- rref($A$) tells you the number of independent columns of $A$.\n",
    "- If $A$ has n columns and for j < n, there can be $_jC_n$ different set of independent columns"
   ]
  },
  {
   "cell_type": "code",
   "execution_count": 22,
   "metadata": {},
   "outputs": [
    {
     "data": {
      "text/html": [
       "<table>\n",
       "<caption>A matrix: 3 × 5 of type dbl</caption>\n",
       "<tbody>\n",
       "\t<tr><td>1</td><td>-2</td><td>0</td><td>-1</td><td> 3</td></tr>\n",
       "\t<tr><td>0</td><td> 0</td><td>1</td><td> 2</td><td>-2</td></tr>\n",
       "\t<tr><td>0</td><td> 0</td><td>0</td><td> 0</td><td> 0</td></tr>\n",
       "</tbody>\n",
       "</table>\n"
      ],
      "text/latex": [
       "A matrix: 3 × 5 of type dbl\n",
       "\\begin{tabular}{lllll}\n",
       "\t 1 & -2 & 0 & -1 &  3\\\\\n",
       "\t 0 &  0 & 1 &  2 & -2\\\\\n",
       "\t 0 &  0 & 0 &  0 &  0\\\\\n",
       "\\end{tabular}\n"
      ],
      "text/markdown": [
       "\n",
       "A matrix: 3 × 5 of type dbl\n",
       "\n",
       "| 1 | -2 | 0 | -1 |  3 |\n",
       "| 0 |  0 | 1 |  2 | -2 |\n",
       "| 0 |  0 | 0 |  0 |  0 |\n",
       "\n"
      ],
      "text/plain": [
       "     [,1] [,2] [,3] [,4] [,5]\n",
       "[1,] 1    -2   0    -1    3  \n",
       "[2,] 0     0   1     2   -2  \n",
       "[3,] 0     0   0     0    0  "
      ]
     },
     "metadata": {},
     "output_type": "display_data"
    }
   ],
   "source": [
    "rref(A)"
   ]
  },
  {
   "cell_type": "code",
   "execution_count": 23,
   "metadata": {},
   "outputs": [
    {
     "data": {
      "text/html": [
       "2"
      ],
      "text/latex": [
       "2"
      ],
      "text/markdown": [
       "2"
      ],
      "text/plain": [
       "[1] 2"
      ]
     },
     "metadata": {},
     "output_type": "display_data"
    }
   ],
   "source": [
    "Rank(A) #there are two independent columns"
   ]
  }
 ],
 "metadata": {
  "kernelspec": {
   "display_name": "R",
   "language": "R",
   "name": "ir"
  },
  "language_info": {
   "codemirror_mode": "r",
   "file_extension": ".r",
   "mimetype": "text/x-r-source",
   "name": "R",
   "pygments_lexer": "r",
   "version": "3.4.4"
  }
 },
 "nbformat": 4,
 "nbformat_minor": 2
}
