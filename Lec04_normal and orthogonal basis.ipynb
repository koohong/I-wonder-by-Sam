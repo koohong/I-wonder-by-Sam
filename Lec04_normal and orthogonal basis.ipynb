{
 "cells": [
  {
   "cell_type": "code",
   "execution_count": 3,
   "metadata": {},
   "outputs": [
    {
     "name": "stderr",
     "output_type": "stream",
     "text": [
      "Loading required package: nlme\n",
      "far library : Modelization for Functional AutoRegressive processes\n",
      "\n",
      "version 0.6-4 (2014-12-07)\n",
      "\n",
      "\n",
      "Attaching package: ‘pracma’\n",
      "\n",
      "The following objects are masked from ‘package:Matrix’:\n",
      "\n",
      "    expm, lu, tril, triu\n",
      "\n",
      "\n",
      "Attaching package: ‘expm’\n",
      "\n",
      "The following objects are masked from ‘package:pracma’:\n",
      "\n",
      "    expm, logm, sqrtm\n",
      "\n",
      "The following object is masked from ‘package:Matrix’:\n",
      "\n",
      "    expm\n",
      "\n"
     ]
    }
   ],
   "source": [
    "library(Matrix)\n",
    "library(far)\n",
    "library(MASS)\n",
    "library(pracma)\n",
    "library(expm)"
   ]
  },
  {
   "cell_type": "markdown",
   "metadata": {},
   "source": [
    "<h2 style=\"color:red'\"> Orthogonal </h2>\n",
    "\n",
    "- Two vectors  $\\vec{v_1}$ and $\\vec{v_2} \\in R^m$ are orthogonal, if $\\vec{v_1} \\centerdot \\vec{v_2}=0$\n",
    "- Note that the dot product produce scalar quantity 0 not $\\vec{0}$"
   ]
  },
  {
   "cell_type": "markdown",
   "metadata": {},
   "source": [
    "\n",
    "\n",
    "- Notice $\\vec{v}_1$ is size of 3 vector and `orth( )` returns normalized $\\vec{v}_1$"
   ]
  },
  {
   "cell_type": "code",
   "execution_count": 4,
   "metadata": {},
   "outputs": [],
   "source": [
    "v1 <- c(3,4,5)"
   ]
  },
  {
   "cell_type": "markdown",
   "metadata": {},
   "source": [
    "<h2 style=\"color:blue'\">  Normalize the basis </h2>"
   ]
  },
  {
   "cell_type": "code",
   "execution_count": 6,
   "metadata": {},
   "outputs": [
    {
     "name": "stdout",
     "output_type": "stream",
     "text": [
      "          [,1]\n",
      "[1,] 0.4242641\n",
      "[2,] 0.5656854\n",
      "[3,] 0.7071068\n"
     ]
    }
   ],
   "source": [
    "c_A <- orth(v1)\n",
    "print(c_A)"
   ]
  },
  {
   "cell_type": "code",
   "execution_count": 10,
   "metadata": {},
   "outputs": [
    {
     "name": "stdout",
     "output_type": "stream",
     "text": [
      "         [,1]\n",
      "[1,] 7.071068\n"
     ]
    }
   ],
   "source": [
    "#notice what happens when you dot v1 and c_A\n",
    "print(v1%*%c_A)"
   ]
  },
  {
   "cell_type": "code",
   "execution_count": 9,
   "metadata": {},
   "outputs": [
    {
     "data": {
      "text/html": [
       "7.07106781186548"
      ],
      "text/latex": [
       "7.07106781186548"
      ],
      "text/markdown": [
       "7.07106781186548"
      ],
      "text/plain": [
       "[1] 7.071068"
      ]
     },
     "metadata": {},
     "output_type": "display_data"
    }
   ],
   "source": [
    "Norm(v1)"
   ]
  },
  {
   "cell_type": "markdown",
   "metadata": {},
   "source": [
    "<h2 style=\"color:red'\">  Space, subspace, orthogonal complement subspace </h2>\n",
    "\n",
    "- Let $S$ be space of $R^n$, $A$ is $R^{mxn}$ matrix. \n",
    "- Let $C(A)$ and $N(A^T)$ be the column space and left nullspace of $A$\n",
    "- $C(A)$ and $N(A^T)$ are orthogonal complement subspace of each other.\n",
    "- Then, any vector, $\\vec{x} \\in S$ but $\\vec{x} \\notin C(A) \\text{ or } \\vec{x} \\notin N(A^T)$ <br>\n",
    "can be expressed by the linear combination of basis of $C(A) \\text{ and } N(A^T)$"
   ]
  },
  {
   "cell_type": "markdown",
   "metadata": {},
   "source": [
    "<h2 style=\"color:blue'\">  Diagonal matrix </h2>"
   ]
  },
  {
   "cell_type": "code",
   "execution_count": 26,
   "metadata": {},
   "outputs": [
    {
     "name": "stdout",
     "output_type": "stream",
     "text": [
      "     [,1] [,2] [,3]\n",
      "[1,]    5    0    0\n",
      "[2,]    0    2    0\n",
      "[3,]    0    0   10\n"
     ]
    }
   ],
   "source": [
    "D1 <- diag(c(5,2,10),3,3)\n",
    "print(D1)"
   ]
  },
  {
   "cell_type": "code",
   "execution_count": 28,
   "metadata": {},
   "outputs": [
    {
     "name": "stdout",
     "output_type": "stream",
     "text": [
      "     [,1] [,2] [,3]\n",
      "[1,]  0.2  0.0  0.0\n",
      "[2,]  0.0  0.5  0.0\n",
      "[3,]  0.0  0.0  0.1\n"
     ]
    }
   ],
   "source": [
    "print(inv(D1)) #notice when the diagonal elements has zero in it, D1 becomes singular."
   ]
  },
  {
   "cell_type": "code",
   "execution_count": 23,
   "metadata": {},
   "outputs": [
    {
     "name": "stdout",
     "output_type": "stream",
     "text": [
      "     [,1] [,2] [,3]\n",
      "[1,]  125    0    0\n",
      "[2,]    0    8    0\n",
      "[3,]    0    0 1000\n"
     ]
    }
   ],
   "source": [
    "print(D1 %^% 3) # using the function in expm"
   ]
  },
  {
   "cell_type": "markdown",
   "metadata": {},
   "source": [
    "<h2 style=\"color:blue'\">  Orthogonal matrix </h2>\n",
    "\n",
    "$$U^{-1} = U^T$$"
   ]
  },
  {
   "cell_type": "markdown",
   "metadata": {},
   "source": [
    "- Let $W$ be a subspace of $R^n$ and let $\\vec{y} \\in R^n$ but $\\vec{y} \\notin W$.  \n",
    "- Then, $\\hat{\\vec{y}} \\in W$ that is the closest approximation of $\\vec{y}$ is the $\\vec{y}$ projected onto $W$"
   ]
  },
  {
   "cell_type": "markdown",
   "metadata": {},
   "source": [
    "<h2 style=\"color:red'\"> Proerty of matrx that is not square, but has orthonormal basis. </h2>"
   ]
  },
  {
   "cell_type": "code",
   "execution_count": 3,
   "metadata": {},
   "outputs": [
    {
     "name": "stdout",
     "output_type": "stream",
     "text": [
      "          [,1]       [,2]       [,3]\n",
      "[1,] 0.6666667 -0.2357023 -0.7071068\n",
      "[2,] 0.3333333  0.9428090  0.0000000\n",
      "[3,] 0.6666667 -0.2357023  0.7071068\n"
     ]
    }
   ],
   "source": [
    "v <- matrix(c(2,1,2),nrow=3)\n",
    "O <- orthonormalization(v)\n",
    "print(O)"
   ]
  },
  {
   "cell_type": "code",
   "execution_count": 6,
   "metadata": {},
   "outputs": [
    {
     "name": "stdout",
     "output_type": "stream",
     "text": [
      "     [,1] [,2]\n",
      "[1,]    1    0\n",
      "[2,]    0    1\n"
     ]
    }
   ],
   "source": [
    "U <- cbind(O[,1],O[,2])\n",
    "print(t(U)%*%U)"
   ]
  },
  {
   "cell_type": "markdown",
   "metadata": {},
   "source": [
    "Suppose $C$ is matrix that contains orthonormal basis of $W$.  Since there exist $\\vec{y} \\notin W$, $C$ can't be square matrix. <br>\n",
    "\n",
    "However, the basis in $C$ can still be ```orthonormal```.  <br>\n",
    "\n",
    "Let $C$ be retangular matrix with orthonormal basis,\n",
    "\n",
    "$$\\vec{y} = C\\vec{x}_w + N\\vec{x}_N$$ \n",
    "where \n",
    "- $N$ is the basis spanning orthogonal complement subspace of $W$. Then,<br><br>\n",
    " $$C^{T}\\vec{y} = C^TC\\vec{x}_w$$ <br>\n",
    " \n",
    "Since $C$ is matrix that contains orthonormal basis, $C^TC$ becomes identify matrix. <br><br>\n",
    "$$C^{T}\\vec{y} = \\vec{x}_W $$ <br>\n",
    "Now, the location of $\\hat{\\vec{y}}$ in terms of the basis in $C$ can be expressed as below <br>\n",
    "$$C\\vec{x}_W = \\hat{\\vec{y}}$$ <br>\n",
    "\n",
    "Solving for $\\vec{x}_W$\n",
    "$$\\vec{x}_W = C^T\\hat{\\vec{y}}$$<br>\n",
    "\n",
    "Sub the above expression of $\\vec{x}_W$ to the following equation\n",
    "\n",
    "$$C^{T}\\vec{y} = C^TC\\vec{x}_w$$ <br>\n",
    "\n",
    "$$C^{T}\\vec{y} = C^TC(C^T\\hat{\\vec{y}})$$ <br>\n",
    "\n",
    "Then,\n",
    "\n",
    "$$CC^T\\vec{y} = \\hat{\\vec{y}}$$"
   ]
  },
  {
   "cell_type": "markdown",
   "metadata": {},
   "source": [
    "## Good example found the following link\n",
    "\n",
    "[LINK](https://cran.r-project.org/web/packages/matlib/vignettes/gramreg.html)\n"
   ]
  },
  {
   "attachments": {
    "image.png": {
     "image/png": "[encoded data removed]"
    }
   },
   "cell_type": "markdown",
   "metadata": {},
   "source": [
    "<h1 style =\"color:red'\"> Determinants (see chapter 3) </h1>\n",
    "\n",
    "- `determinant` can be used to test the invertiblity of a matrix <br><br>\n",
    "\n",
    "- `determinant` measures the amount by which a linear transformation changes the area of a figure. When applied locally, this technique answers the question of map's expansion rate near the poles.  This idea plays a critical role in multivariable calculus in the form of the `Jacobian`.<br><br>\n",
    "\n",
    "- If $A$ is a 2 x 2 matrix, the area of the parallelogram determined by the columns of $A$ is determinant of $A$. If $A$ is a 3 x 3 matrix, the volume of the box can be determined by the determinant of $A$. \n",
    "    \n",
    "    \n",
    "![image.png](attachment:image.png)"
   ]
  },
  {
   "cell_type": "markdown",
   "metadata": {},
   "source": [
    "<h2 style=\"color:red'\">  Gram–Schmidt process </h2>\n",
    "\n",
    "- Let {$\\vec{x}_1,\\vec{x}_2...\\vec{x}_p$} be basis for a nonzero subspace $W$ of $R^n$ where $p < n$. <br><br>\n",
    "Gram-Schimidt process converts {$\\vec{x}_1,\\vec{x}_2...\\vec{x}_p$} to  {$\\vec{v}_1,\\vec{v}_2...\\vec{v}_p$} where  {$\\vec{v}_1,\\vec{v}_2...\\vec{v}_p$} are orthogonal basis for $W$ <br><br>\n",
    "\n",
    "\n",
    "- Gram-Schimit process is projecting one set of basis to another basis that is orthogonal to them. <br><br>\n",
    "\n",
    "\n",
    "- Notice the `orthonormalization( )` in `R` returns 3 x 3 matrix.  This function in R returns the basis spanning the subspace that is orthogonal to subspace spanned by $\\vec{v}_1$ \n",
    "\n",
    "\n"
   ]
  },
  {
   "cell_type": "code",
   "execution_count": 8,
   "metadata": {},
   "outputs": [
    {
     "name": "stdout",
     "output_type": "stream",
     "text": [
      "          [,1]       [,2]       [,3]\n",
      "[1,] 0.4242641  0.9055385  0.0000000\n",
      "[2,] 0.5656854 -0.2650357  0.7808688\n",
      "[3,] 0.7071068 -0.3312946 -0.6246950\n"
     ]
    }
   ],
   "source": [
    "GS <- orthonormalization(v1)\n",
    "print(GS)"
   ]
  }
 ],
 "metadata": {
  "kernelspec": {
   "display_name": "R",
   "language": "R",
   "name": "ir"
  },
  "language_info": {
   "codemirror_mode": "r",
   "file_extension": ".r",
   "mimetype": "text/x-r-source",
   "name": "R",
   "pygments_lexer": "r",
   "version": "3.4.4"
  }
 },
 "nbformat": 4,
 "nbformat_minor": 2
}
