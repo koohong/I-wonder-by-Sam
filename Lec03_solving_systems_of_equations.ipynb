{
 "cells": [
  {
   "cell_type": "code",
   "execution_count": 1,
   "metadata": {},
   "outputs": [
    {
     "name": "stderr",
     "output_type": "stream",
     "text": [
      "Loading required package: nlme\n",
      "far library : Modelization for Functional AutoRegressive processes\n",
      "\n",
      "version 0.6-4 (2014-12-07)\n",
      "\n",
      "\n",
      "Attaching package: ‘pracma’\n",
      "\n",
      "The following objects are masked from ‘package:Matrix’:\n",
      "\n",
      "    expm, lu, tril, triu\n",
      "\n"
     ]
    }
   ],
   "source": [
    "library(Matrix)\n",
    "library(far)\n",
    "library(MASS)\n",
    "library(pracma)"
   ]
  },
  {
   "cell_type": "markdown",
   "metadata": {},
   "source": [
    "### Solving systems of equations\n",
    "\n",
    "- by comparing the rank of $A$ and the argumented matrix, we can find out if the systems of equations have\n",
    "  - exactly one solutions, (this is case when $A$ is ```invertible```)\n",
    "  - many solutions, (the solution set exist in ```hyperplane``` which is ```affine nullspace of $A$```)\n",
    "  - no solutions (rank of the ```argumented matrix``` is greater than rank of $A$)"
   ]
  },
  {
   "cell_type": "code",
   "execution_count": 64,
   "metadata": {},
   "outputs": [
    {
     "data": {
      "text/html": [
       "<table>\n",
       "<tbody>\n",
       "\t<tr><td>1</td><td>1</td><td>1</td><td>1</td><td>2</td></tr>\n",
       "\t<tr><td>2</td><td>1</td><td>4</td><td>3</td><td>4</td></tr>\n",
       "\t<tr><td>3</td><td>4</td><td>1</td><td>2</td><td>6</td></tr>\n",
       "</tbody>\n",
       "</table>\n"
      ],
      "text/latex": [
       "\\begin{tabular}{lllll}\n",
       "\t 1 & 1 & 1 & 1 & 2\\\\\n",
       "\t 2 & 1 & 4 & 3 & 4\\\\\n",
       "\t 3 & 4 & 1 & 2 & 6\\\\\n",
       "\\end{tabular}\n"
      ],
      "text/markdown": [
       "\n",
       "| 1 | 1 | 1 | 1 | 2 |\n",
       "| 2 | 1 | 4 | 3 | 4 |\n",
       "| 3 | 4 | 1 | 2 | 6 |\n",
       "\n"
      ],
      "text/plain": [
       "     [,1] [,2] [,3] [,4] [,5]\n",
       "[1,] 1    1    1    1    2   \n",
       "[2,] 2    1    4    3    4   \n",
       "[3,] 3    4    1    2    6   "
      ]
     },
     "metadata": {},
     "output_type": "display_data"
    }
   ],
   "source": [
    "a1 <- c(1,1,1,1,2)\n",
    "a2 <- c(2,1,4,3,4)\n",
    "a3 <- c(3,4,1,2,6)\n",
    "\n",
    "a <- c(a1,a2,a3)\n",
    "\n",
    "A <- matrix(a,nrow=3,byrow=T)\n",
    "A"
   ]
  },
  {
   "cell_type": "code",
   "execution_count": 38,
   "metadata": {},
   "outputs": [
    {
     "data": {
      "text/html": [
       "<table>\n",
       "<tbody>\n",
       "\t<tr><td>1 </td><td>0 </td><td> 3</td><td> 2</td><td>2 </td></tr>\n",
       "\t<tr><td>0 </td><td>1 </td><td>-2</td><td>-1</td><td>0 </td></tr>\n",
       "\t<tr><td>0 </td><td>0 </td><td> 0</td><td> 0</td><td>0 </td></tr>\n",
       "</tbody>\n",
       "</table>\n"
      ],
      "text/latex": [
       "\\begin{tabular}{lllll}\n",
       "\t 1  & 0  &  3 &  2 & 2 \\\\\n",
       "\t 0  & 1  & -2 & -1 & 0 \\\\\n",
       "\t 0  & 0  &  0 &  0 & 0 \\\\\n",
       "\\end{tabular}\n"
      ],
      "text/markdown": [
       "\n",
       "| 1  | 0  |  3 |  2 | 2  |\n",
       "| 0  | 1  | -2 | -1 | 0  |\n",
       "| 0  | 0  |  0 |  0 | 0  |\n",
       "\n"
      ],
      "text/plain": [
       "     [,1] [,2] [,3] [,4] [,5]\n",
       "[1,] 1    0     3    2   2   \n",
       "[2,] 0    1    -2   -1   0   \n",
       "[3,] 0    0     0    0   0   "
      ]
     },
     "metadata": {},
     "output_type": "display_data"
    }
   ],
   "source": [
    "rref(A)"
   ]
  },
  {
   "cell_type": "markdown",
   "metadata": {},
   "source": [
    "## Example 1:  $A\\vec{x}=\\vec{b}$ where $\\vec{b}$= [3,4,11]<sup>T</sup>\n",
    "\n",
    "- This is an example where you have $\\infty$ number of solution\n",
    "- Here is how you get particular solution"
   ]
  },
  {
   "cell_type": "code",
   "execution_count": 39,
   "metadata": {},
   "outputs": [
    {
     "name": "stdout",
     "output_type": "stream",
     "text": [
      "Rank of matrix A is 2 and the Rank of matrix A|b is 2"
     ]
    }
   ],
   "source": [
    "b <- matrix(c(3,4,11), nrow=3)\n",
    "Ab <- cbind(A,b)\n",
    "cat(\"Rank of matrix A is\" , Rank(A), \"and the Rank of matrix A|b is\", Rank(Ab))"
   ]
  },
  {
   "cell_type": "code",
   "execution_count": 40,
   "metadata": {},
   "outputs": [
    {
     "name": "stdout",
     "output_type": "stream",
     "text": [
      "Rank of nullspace of matrix A is 3"
     ]
    }
   ],
   "source": [
    "cat(\"Rank of nullspace of matrix A is\", Rank(null(A)))"
   ]
  },
  {
   "cell_type": "markdown",
   "metadata": {},
   "source": [
    "- Then, according to ```Rouche-Capelli Theorem```, you have $\\infty$ number of solutions"
   ]
  },
  {
   "cell_type": "code",
   "execution_count": 42,
   "metadata": {},
   "outputs": [
    {
     "data": {
      "text/html": [
       "<table>\n",
       "<tbody>\n",
       "\t<tr><td>1</td><td>1</td></tr>\n",
       "\t<tr><td>2</td><td>1</td></tr>\n",
       "\t<tr><td>3</td><td>4</td></tr>\n",
       "</tbody>\n",
       "</table>\n"
      ],
      "text/latex": [
       "\\begin{tabular}{ll}\n",
       "\t 1 & 1\\\\\n",
       "\t 2 & 1\\\\\n",
       "\t 3 & 4\\\\\n",
       "\\end{tabular}\n"
      ],
      "text/markdown": [
       "\n",
       "| 1 | 1 |\n",
       "| 2 | 1 |\n",
       "| 3 | 4 |\n",
       "\n"
      ],
      "text/plain": [
       "     [,1] [,2]\n",
       "[1,] 1    1   \n",
       "[2,] 2    1   \n",
       "[3,] 3    4   "
      ]
     },
     "metadata": {},
     "output_type": "display_data"
    }
   ],
   "source": [
    "B <- A[,c(1,2)]\n",
    "B"
   ]
  },
  {
   "cell_type": "code",
   "execution_count": 54,
   "metadata": {},
   "outputs": [
    {
     "data": {
      "text/html": [
       "<table>\n",
       "<tbody>\n",
       "\t<tr><td>1</td></tr>\n",
       "\t<tr><td>2</td></tr>\n",
       "</tbody>\n",
       "</table>\n"
      ],
      "text/latex": [
       "\\begin{tabular}{l}\n",
       "\t 1\\\\\n",
       "\t 2\\\\\n",
       "\\end{tabular}\n"
      ],
      "text/markdown": [
       "\n",
       "| 1 |\n",
       "| 2 |\n",
       "\n"
      ],
      "text/plain": [
       "     [,1]\n",
       "[1,] 1   \n",
       "[2,] 2   "
      ]
     },
     "metadata": {},
     "output_type": "display_data"
    }
   ],
   "source": [
    "G <- t(B)%*%(B)\n",
    "x_b <- inv(G)%*%t(B)%*%b\n",
    "x_b"
   ]
  },
  {
   "cell_type": "code",
   "execution_count": 50,
   "metadata": {},
   "outputs": [
    {
     "data": {
      "text/html": [
       "<table>\n",
       "<tbody>\n",
       "\t<tr><td>1</td></tr>\n",
       "\t<tr><td>2</td></tr>\n",
       "\t<tr><td>0</td></tr>\n",
       "\t<tr><td>0</td></tr>\n",
       "\t<tr><td>0</td></tr>\n",
       "</tbody>\n",
       "</table>\n"
      ],
      "text/latex": [
       "\\begin{tabular}{l}\n",
       "\t 1\\\\\n",
       "\t 2\\\\\n",
       "\t 0\\\\\n",
       "\t 0\\\\\n",
       "\t 0\\\\\n",
       "\\end{tabular}\n"
      ],
      "text/markdown": [
       "\n",
       "| 1 |\n",
       "| 2 |\n",
       "| 0 |\n",
       "| 0 |\n",
       "| 0 |\n",
       "\n"
      ],
      "text/plain": [
       "     [,1]\n",
       "[1,] 1   \n",
       "[2,] 2   \n",
       "[3,] 0   \n",
       "[4,] 0   \n",
       "[5,] 0   "
      ]
     },
     "metadata": {},
     "output_type": "display_data"
    }
   ],
   "source": [
    "x_sol <- matrix(c(1,2,0,0,0),nrow=5)\n",
    "x_sol"
   ]
  },
  {
   "cell_type": "code",
   "execution_count": 51,
   "metadata": {},
   "outputs": [
    {
     "data": {
      "text/html": [
       "<table>\n",
       "<tbody>\n",
       "\t<tr><td> 3</td></tr>\n",
       "\t<tr><td> 4</td></tr>\n",
       "\t<tr><td>11</td></tr>\n",
       "</tbody>\n",
       "</table>\n"
      ],
      "text/latex": [
       "\\begin{tabular}{l}\n",
       "\t  3\\\\\n",
       "\t  4\\\\\n",
       "\t 11\\\\\n",
       "\\end{tabular}\n"
      ],
      "text/markdown": [
       "\n",
       "|  3 |\n",
       "|  4 |\n",
       "| 11 |\n",
       "\n"
      ],
      "text/plain": [
       "     [,1]\n",
       "[1,]  3  \n",
       "[2,]  4  \n",
       "[3,] 11  "
      ]
     },
     "metadata": {},
     "output_type": "display_data"
    }
   ],
   "source": [
    "A%*%x_sol"
   ]
  },
  {
   "cell_type": "code",
   "execution_count": null,
   "metadata": {},
   "outputs": [],
   "source": []
  },
  {
   "cell_type": "markdown",
   "metadata": {},
   "source": [
    "## Example 2: $A\\vec{x}=\\vec{b}$ where $\\vec{b}$= [3,4,11]<sup>T</sup>\n",
    "- How to adjust the weight of basis when the weight of nonbasic vectors are given"
   ]
  },
  {
   "cell_type": "code",
   "execution_count": 65,
   "metadata": {},
   "outputs": [
    {
     "data": {
      "text/html": [
       "<table>\n",
       "<tbody>\n",
       "\t<tr><td>1</td><td>1</td></tr>\n",
       "\t<tr><td>2</td><td>1</td></tr>\n",
       "\t<tr><td>3</td><td>4</td></tr>\n",
       "</tbody>\n",
       "</table>\n"
      ],
      "text/latex": [
       "\\begin{tabular}{ll}\n",
       "\t 1 & 1\\\\\n",
       "\t 2 & 1\\\\\n",
       "\t 3 & 4\\\\\n",
       "\\end{tabular}\n"
      ],
      "text/markdown": [
       "\n",
       "| 1 | 1 |\n",
       "| 2 | 1 |\n",
       "| 3 | 4 |\n",
       "\n"
      ],
      "text/plain": [
       "     [,1] [,2]\n",
       "[1,] 1    1   \n",
       "[2,] 2    1   \n",
       "[3,] 3    4   "
      ]
     },
     "metadata": {},
     "output_type": "display_data"
    }
   ],
   "source": [
    "B <- A[,c(1,2)]\n",
    "B\n"
   ]
  },
  {
   "cell_type": "code",
   "execution_count": 66,
   "metadata": {},
   "outputs": [
    {
     "data": {
      "text/html": [
       "<table>\n",
       "<tbody>\n",
       "\t<tr><td>1</td><td>1</td><td>2</td></tr>\n",
       "\t<tr><td>4</td><td>3</td><td>4</td></tr>\n",
       "\t<tr><td>1</td><td>2</td><td>6</td></tr>\n",
       "</tbody>\n",
       "</table>\n"
      ],
      "text/latex": [
       "\\begin{tabular}{lll}\n",
       "\t 1 & 1 & 2\\\\\n",
       "\t 4 & 3 & 4\\\\\n",
       "\t 1 & 2 & 6\\\\\n",
       "\\end{tabular}\n"
      ],
      "text/markdown": [
       "\n",
       "| 1 | 1 | 2 |\n",
       "| 4 | 3 | 4 |\n",
       "| 1 | 2 | 6 |\n",
       "\n"
      ],
      "text/plain": [
       "     [,1] [,2] [,3]\n",
       "[1,] 1    1    2   \n",
       "[2,] 4    3    4   \n",
       "[3,] 1    2    6   "
      ]
     },
     "metadata": {},
     "output_type": "display_data"
    }
   ],
   "source": [
    "N <- A[,-c(1,2)]\n",
    "N"
   ]
  },
  {
   "cell_type": "markdown",
   "metadata": {},
   "source": [
    "- the weight of the nonbasic variables are given here.\n",
    "- Update the RHS by $N\\vec{x}_N$"
   ]
  },
  {
   "cell_type": "code",
   "execution_count": 67,
   "metadata": {},
   "outputs": [
    {
     "data": {
      "text/html": [
       "<table>\n",
       "<tbody>\n",
       "\t<tr><td>-257</td></tr>\n",
       "\t<tr><td>-916</td></tr>\n",
       "\t<tr><td>-369</td></tr>\n",
       "</tbody>\n",
       "</table>\n"
      ],
      "text/latex": [
       "\\begin{tabular}{l}\n",
       "\t -257\\\\\n",
       "\t -916\\\\\n",
       "\t -369\\\\\n",
       "\\end{tabular}\n"
      ],
      "text/markdown": [
       "\n",
       "| -257 |\n",
       "| -916 |\n",
       "| -369 |\n",
       "\n"
      ],
      "text/plain": [
       "     [,1]\n",
       "[1,] -257\n",
       "[2,] -916\n",
       "[3,] -369"
      ]
     },
     "metadata": {},
     "output_type": "display_data"
    }
   ],
   "source": [
    "x_N <- matrix(c(100,200,-20),nrow=3)\n",
    "RHS <- b - N%*%x_N\n",
    "RHS "
   ]
  },
  {
   "cell_type": "markdown",
   "metadata": {},
   "source": [
    "now solve\n",
    "\n",
    "$$B\\vec{x}_B+N\\vec{x}_N = \\vec{b}$$\n",
    "\n",
    "where <br> \n",
    "$A = [B|N]$ <br>\n",
    "$B$ is matrix containing independent column vectors <br>\n",
    "$N$ is matrix containing dependent column vectors\n",
    "      "
   ]
  },
  {
   "cell_type": "markdown",
   "metadata": {},
   "source": [
    "$B^TB\\vec{x}_B = B^T\\vec{b} - B^TN\\vec{x}_N$ <br>\n",
    "$\\vec{x}_B = (B^TB)^{-1}B^T$ $\\vec{b} - (B^TB)^{-1}B^TN\\vec{x}_N$"
   ]
  },
  {
   "cell_type": "code",
   "execution_count": 68,
   "metadata": {},
   "outputs": [
    {
     "data": {
      "text/html": [
       "<table>\n",
       "<tbody>\n",
       "\t<tr><td>-3196</td></tr>\n",
       "\t<tr><td>-2649</td></tr>\n",
       "</tbody>\n",
       "</table>\n"
      ],
      "text/latex": [
       "\\begin{tabular}{l}\n",
       "\t -3196\\\\\n",
       "\t -2649\\\\\n",
       "\\end{tabular}\n"
      ],
      "text/markdown": [
       "\n",
       "| -3196 |\n",
       "| -2649 |\n",
       "\n"
      ],
      "text/plain": [
       "     [,1] \n",
       "[1,] -3196\n",
       "[2,] -2649"
      ]
     },
     "metadata": {},
     "output_type": "display_data"
    }
   ],
   "source": [
    "t(B)%*%RHS"
   ]
  },
  {
   "cell_type": "code",
   "execution_count": 69,
   "metadata": {},
   "outputs": [
    {
     "data": {
      "text/html": [
       "<table>\n",
       "<tbody>\n",
       "\t<tr><td>-659</td></tr>\n",
       "\t<tr><td> 402</td></tr>\n",
       "</tbody>\n",
       "</table>\n"
      ],
      "text/latex": [
       "\\begin{tabular}{l}\n",
       "\t -659\\\\\n",
       "\t  402\\\\\n",
       "\\end{tabular}\n"
      ],
      "text/markdown": [
       "\n",
       "| -659 |\n",
       "|  402 |\n",
       "\n"
      ],
      "text/plain": [
       "     [,1]\n",
       "[1,] -659\n",
       "[2,]  402"
      ]
     },
     "metadata": {},
     "output_type": "display_data"
    }
   ],
   "source": [
    "G <- t(B)%*%(B)\n",
    "x_B <- solve(G)%*%t(B)%*%RHS\n",
    "x_B"
   ]
  },
  {
   "cell_type": "code",
   "execution_count": 71,
   "metadata": {},
   "outputs": [
    {
     "data": {
      "text/html": [
       "<table>\n",
       "<tbody>\n",
       "\t<tr><td>-659</td></tr>\n",
       "\t<tr><td> 402</td></tr>\n",
       "\t<tr><td> 100</td></tr>\n",
       "\t<tr><td> 200</td></tr>\n",
       "\t<tr><td> -20</td></tr>\n",
       "</tbody>\n",
       "</table>\n"
      ],
      "text/latex": [
       "\\begin{tabular}{l}\n",
       "\t -659\\\\\n",
       "\t  402\\\\\n",
       "\t  100\\\\\n",
       "\t  200\\\\\n",
       "\t  -20\\\\\n",
       "\\end{tabular}\n"
      ],
      "text/markdown": [
       "\n",
       "| -659 |\n",
       "|  402 |\n",
       "|  100 |\n",
       "|  200 |\n",
       "|  -20 |\n",
       "\n"
      ],
      "text/plain": [
       "     [,1]\n",
       "[1,] -659\n",
       "[2,]  402\n",
       "[3,]  100\n",
       "[4,]  200\n",
       "[5,]  -20"
      ]
     },
     "metadata": {},
     "output_type": "display_data"
    }
   ],
   "source": [
    "x <- rbind(x_B, x_N)\n",
    "x"
   ]
  },
  {
   "cell_type": "markdown",
   "metadata": {},
   "source": [
    "### checking the answer"
   ]
  },
  {
   "cell_type": "code",
   "execution_count": 72,
   "metadata": {},
   "outputs": [
    {
     "data": {
      "text/html": [
       "<table>\n",
       "<tbody>\n",
       "\t<tr><td> 3</td></tr>\n",
       "\t<tr><td> 4</td></tr>\n",
       "\t<tr><td>11</td></tr>\n",
       "</tbody>\n",
       "</table>\n"
      ],
      "text/latex": [
       "\\begin{tabular}{l}\n",
       "\t  3\\\\\n",
       "\t  4\\\\\n",
       "\t 11\\\\\n",
       "\\end{tabular}\n"
      ],
      "text/markdown": [
       "\n",
       "|  3 |\n",
       "|  4 |\n",
       "| 11 |\n",
       "\n"
      ],
      "text/plain": [
       "     [,1]\n",
       "[1,]  3  \n",
       "[2,]  4  \n",
       "[3,] 11  "
      ]
     },
     "metadata": {},
     "output_type": "display_data"
    }
   ],
   "source": [
    "A%*%x"
   ]
  },
  {
   "cell_type": "code",
   "execution_count": 73,
   "metadata": {},
   "outputs": [
    {
     "name": "stdout",
     "output_type": "stream",
     "text": [
      "Rank of A is 2 while the Rank of A|b is 2"
     ]
    }
   ],
   "source": [
    "cat(\"Rank of A is\" , Rank(A), \"while the Rank of A|b is\", Rank(Ab))"
   ]
  },
  {
   "cell_type": "markdown",
   "metadata": {},
   "source": [
    "## Example 3:  𝐴𝑥⃗ =𝑏⃗   with no solution case"
   ]
  },
  {
   "cell_type": "code",
   "execution_count": 74,
   "metadata": {},
   "outputs": [
    {
     "data": {
      "text/html": [
       "<table>\n",
       "<tbody>\n",
       "\t<tr><td>1 </td><td>2 </td><td>2 </td><td> 2</td></tr>\n",
       "\t<tr><td>2 </td><td>4 </td><td>6 </td><td> 8</td></tr>\n",
       "\t<tr><td>3 </td><td>6 </td><td>8 </td><td>10</td></tr>\n",
       "</tbody>\n",
       "</table>\n"
      ],
      "text/latex": [
       "\\begin{tabular}{llll}\n",
       "\t 1  & 2  & 2  &  2\\\\\n",
       "\t 2  & 4  & 6  &  8\\\\\n",
       "\t 3  & 6  & 8  & 10\\\\\n",
       "\\end{tabular}\n"
      ],
      "text/markdown": [
       "\n",
       "| 1  | 2  | 2  |  2 |\n",
       "| 2  | 4  | 6  |  8 |\n",
       "| 3  | 6  | 8  | 10 |\n",
       "\n"
      ],
      "text/plain": [
       "     [,1] [,2] [,3] [,4]\n",
       "[1,] 1    2    2     2  \n",
       "[2,] 2    4    6     8  \n",
       "[3,] 3    6    8    10  "
      ]
     },
     "metadata": {},
     "output_type": "display_data"
    }
   ],
   "source": [
    "a1 <- c(1,2,2,2)\n",
    "a2 <- c(2,4,6,8)\n",
    "a3 <-  c(3,6,8,10)\n",
    "\n",
    "a <- c(a1,a2,a3)\n",
    "\n",
    "A <- matrix(a,nrow=3,byrow=T)\n",
    "A"
   ]
  },
  {
   "cell_type": "code",
   "execution_count": 76,
   "metadata": {},
   "outputs": [
    {
     "data": {
      "text/html": [
       "<table>\n",
       "<tbody>\n",
       "\t<tr><td>3</td></tr>\n",
       "\t<tr><td>6</td></tr>\n",
       "\t<tr><td>7</td></tr>\n",
       "</tbody>\n",
       "</table>\n"
      ],
      "text/latex": [
       "\\begin{tabular}{l}\n",
       "\t 3\\\\\n",
       "\t 6\\\\\n",
       "\t 7\\\\\n",
       "\\end{tabular}\n"
      ],
      "text/markdown": [
       "\n",
       "| 3 |\n",
       "| 6 |\n",
       "| 7 |\n",
       "\n"
      ],
      "text/plain": [
       "     [,1]\n",
       "[1,] 3   \n",
       "[2,] 6   \n",
       "[3,] 7   "
      ]
     },
     "metadata": {},
     "output_type": "display_data"
    }
   ],
   "source": [
    "b <- matrix(c(3,6,7),nrow=3)\n",
    "b"
   ]
  },
  {
   "cell_type": "code",
   "execution_count": 77,
   "metadata": {},
   "outputs": [],
   "source": [
    "Ab <- cbind(A,b)"
   ]
  },
  {
   "cell_type": "code",
   "execution_count": 78,
   "metadata": {},
   "outputs": [
    {
     "name": "stdout",
     "output_type": "stream",
     "text": [
      "Rank of matrix A is 2 and the Rank of matrix A|b is 3"
     ]
    }
   ],
   "source": [
    "cat(\"Rank of matrix A is\" , Rank(A), \"and the Rank of matrix A|b is\", Rank(Ab))"
   ]
  },
  {
   "cell_type": "markdown",
   "metadata": {},
   "source": [
    "- Then, according to ```Rouche-Capelli Theorem```, you have no solutions."
   ]
  },
  {
   "cell_type": "markdown",
   "metadata": {},
   "source": [
    "\n",
    "$$\\hat{\\vec{b}} \\neq \\vec{b}$$ \n",
    "where <br>\n",
    "$\\hat{\\vec{b}} \\in C(A)$, where $C(A)$ is a column space of $A$, among all the vectors in C(A). <br>\n"
   ]
  },
  {
   "cell_type": "markdown",
   "metadata": {},
   "source": [
    "$$\\vec{b} = \\hat{\\vec{b}} + \\vec{b}_N$$ \n",
    "where <br>\n",
    "$\\vec{b}_N$ is a member of $N(A^T)$, left nullspace\n",
    "<br>\n",
    "Then, the above equation can be written as the following:\n"
   ]
  },
  {
   "cell_type": "markdown",
   "metadata": {},
   "source": [
    "$$\\vec{b} = B_{C(A)}\\vec{x}_{C(A)} + B_{N(A^T)}\\vec{x}_{N(A^T)}$$\n",
    "\n",
    "where <br> \n",
    "$B_{C(A)}$ and $B_{N(A^T)}$ are the basis of $C(A)$ and $N(A^T)$ <br>\n",
    "$\\vec{x}_{C(A)}$ and $\\vec{x}_{N(A^T)}$ are the coordinate of the corresponding basis<br> <br>\n",
    "Subsituting $B_{C(A)}$ as $B_{C(A)}$ and $\\vec{x}_{C(A)}$ as $\\vec{x}_B$, the above equation can be written as the following: \n",
    "\n",
    "$$B^T\\vec{b} = B^TB\\vec{x}_{B}$$\n",
    "\n",
    "$$\\vec{x}_B = (B^TB)^{-1}B^T\\vec{b}$$\n",
    "\n",
    "<br> \n",
    "\n",
    "and $(B^TB)^{-1}B^T$ is called ```projection matrix of C(A)``` where $B$ are the basis of $C(A)$\n"
   ]
  },
  {
   "cell_type": "code",
   "execution_count": 83,
   "metadata": {},
   "outputs": [
    {
     "data": {
      "text/html": [
       "<table>\n",
       "<tbody>\n",
       "\t<tr><td>1 </td><td>2 </td><td>0 </td><td>-2</td></tr>\n",
       "\t<tr><td>0 </td><td>0 </td><td>1 </td><td> 2</td></tr>\n",
       "\t<tr><td>0 </td><td>0 </td><td>0 </td><td> 0</td></tr>\n",
       "</tbody>\n",
       "</table>\n"
      ],
      "text/latex": [
       "\\begin{tabular}{llll}\n",
       "\t 1  & 2  & 0  & -2\\\\\n",
       "\t 0  & 0  & 1  &  2\\\\\n",
       "\t 0  & 0  & 0  &  0\\\\\n",
       "\\end{tabular}\n"
      ],
      "text/markdown": [
       "\n",
       "| 1  | 2  | 0  | -2 |\n",
       "| 0  | 0  | 1  |  2 |\n",
       "| 0  | 0  | 0  |  0 |\n",
       "\n"
      ],
      "text/plain": [
       "     [,1] [,2] [,3] [,4]\n",
       "[1,] 1    2    0    -2  \n",
       "[2,] 0    0    1     2  \n",
       "[3,] 0    0    0     0  "
      ]
     },
     "metadata": {},
     "output_type": "display_data"
    }
   ],
   "source": [
    "rref(A)"
   ]
  },
  {
   "cell_type": "code",
   "execution_count": 89,
   "metadata": {},
   "outputs": [
    {
     "data": {
      "text/html": [
       "<table>\n",
       "<tbody>\n",
       "\t<tr><td>1.6666667</td></tr>\n",
       "\t<tr><td>0.3333333</td></tr>\n",
       "</tbody>\n",
       "</table>\n"
      ],
      "text/latex": [
       "\\begin{tabular}{l}\n",
       "\t 1.6666667\\\\\n",
       "\t 0.3333333\\\\\n",
       "\\end{tabular}\n"
      ],
      "text/markdown": [
       "\n",
       "| 1.6666667 |\n",
       "| 0.3333333 |\n",
       "\n"
      ],
      "text/plain": [
       "     [,1]     \n",
       "[1,] 1.6666667\n",
       "[2,] 0.3333333"
      ]
     },
     "metadata": {},
     "output_type": "display_data"
    }
   ],
   "source": [
    "B <- A[,c(1,3)]\n",
    "P <- inv(t(B)%*%B)%*%t(B)\n",
    "x_B <- P%*%b\n",
    "x_B"
   ]
  },
  {
   "cell_type": "code",
   "execution_count": 88,
   "metadata": {},
   "outputs": [
    {
     "data": {
      "text/html": [
       "<ol class=list-inline>\n",
       "\t<li>1.66666666666671</li>\n",
       "\t<li>0</li>\n",
       "\t<li>0.333333333333317</li>\n",
       "\t<li>0</li>\n",
       "</ol>\n"
      ],
      "text/latex": [
       "\\begin{enumerate*}\n",
       "\\item 1.66666666666671\n",
       "\\item 0\n",
       "\\item 0.333333333333317\n",
       "\\item 0\n",
       "\\end{enumerate*}\n"
      ],
      "text/markdown": [
       "1. 1.66666666666671\n",
       "2. 0\n",
       "3. 0.333333333333317\n",
       "4. 0\n",
       "\n",
       "\n"
      ],
      "text/plain": [
       "[1] 1.6666667 0.0000000 0.3333333 0.0000000"
      ]
     },
     "metadata": {},
     "output_type": "display_data"
    }
   ],
   "source": [
    "a <- c(x_B[1],0,x_B[2],0)\n",
    "a"
   ]
  },
  {
   "cell_type": "code",
   "execution_count": 93,
   "metadata": {},
   "outputs": [
    {
     "data": {
      "text/html": [
       "<table>\n",
       "<tbody>\n",
       "\t<tr><td>2.333333</td></tr>\n",
       "\t<tr><td>5.333333</td></tr>\n",
       "\t<tr><td>7.666667</td></tr>\n",
       "</tbody>\n",
       "</table>\n"
      ],
      "text/latex": [
       "\\begin{tabular}{l}\n",
       "\t 2.333333\\\\\n",
       "\t 5.333333\\\\\n",
       "\t 7.666667\\\\\n",
       "\\end{tabular}\n"
      ],
      "text/markdown": [
       "\n",
       "| 2.333333 |\n",
       "| 5.333333 |\n",
       "| 7.666667 |\n",
       "\n"
      ],
      "text/plain": [
       "     [,1]    \n",
       "[1,] 2.333333\n",
       "[2,] 5.333333\n",
       "[3,] 7.666667"
      ]
     },
     "metadata": {},
     "output_type": "display_data"
    }
   ],
   "source": [
    "x <- matrix(a,nrow=4)\n",
    "A%*%x  # this is the estimate of b"
   ]
  },
  {
   "cell_type": "code",
   "execution_count": 92,
   "metadata": {},
   "outputs": [
    {
     "data": {
      "text/html": [
       "<table>\n",
       "<tbody>\n",
       "\t<tr><td>3</td></tr>\n",
       "\t<tr><td>6</td></tr>\n",
       "\t<tr><td>7</td></tr>\n",
       "</tbody>\n",
       "</table>\n"
      ],
      "text/latex": [
       "\\begin{tabular}{l}\n",
       "\t 3\\\\\n",
       "\t 6\\\\\n",
       "\t 7\\\\\n",
       "\\end{tabular}\n"
      ],
      "text/markdown": [
       "\n",
       "| 3 |\n",
       "| 6 |\n",
       "| 7 |\n",
       "\n"
      ],
      "text/plain": [
       "     [,1]\n",
       "[1,] 3   \n",
       "[2,] 6   \n",
       "[3,] 7   "
      ]
     },
     "metadata": {},
     "output_type": "display_data"
    }
   ],
   "source": [
    "b"
   ]
  },
  {
   "cell_type": "markdown",
   "metadata": {},
   "source": [
    "## Example 4\n",
    "Given:  <br><br>\n",
    "$$x_1 - 5x_3  =1 $$\n",
    "$$x_2 + x_3 = 4$$"
   ]
  },
  {
   "cell_type": "code",
   "execution_count": 4,
   "metadata": {},
   "outputs": [
    {
     "name": "stdout",
     "output_type": "stream",
     "text": [
      "     [,1] [,2] [,3] [,4]\n",
      "[1,]    1    0   -5    1\n",
      "[2,]    0    1    1    4\n",
      "[3,]    0    0    0    0\n"
     ]
    }
   ],
   "source": [
    "a1 <- c(1,0,-5,1)\n",
    "a2 <- c(0,1,1,4)\n",
    "a3 <-  c(0,0,0,0)\n",
    "a <- c(a1,a2,a3)\n",
    "\n",
    "A <- matrix(a,nrow=3,byrow=T)\n",
    "print(A)"
   ]
  },
  {
   "cell_type": "code",
   "execution_count": 5,
   "metadata": {},
   "outputs": [
    {
     "name": "stdout",
     "output_type": "stream",
     "text": [
      "     [,1] [,2] [,3] [,4]\n",
      "[1,]    1    0   -5    1\n",
      "[2,]    0    1    1    4\n",
      "[3,]    0    0    0    0\n"
     ]
    }
   ],
   "source": [
    "print(rref(A))"
   ]
  },
  {
   "cell_type": "markdown",
   "metadata": {},
   "source": [
    "$$ B\\vec{X}_B + N\\vec{X}_N = \\vec{b}$$"
   ]
  },
  {
   "cell_type": "code",
   "execution_count": 10,
   "metadata": {},
   "outputs": [
    {
     "name": "stdout",
     "output_type": "stream",
     "text": [
      "     [,1]\n",
      "[1,]    1\n",
      "[2,]    4\n"
     ]
    }
   ],
   "source": [
    "B <- cbind(A[,1],A[,2]) #basic variable\n",
    "N <- A[,3] #non basic variable\n",
    "b <- A[,4] #RHS\n",
    "\n",
    "print(inv(t(B)%*%B)%*%t(B)%*%b)"
   ]
  },
  {
   "cell_type": "markdown",
   "metadata": {},
   "source": [
    "$x_1 = 1 + 5x_3$,  $x_2 = 4-x_3$, $x_3$ is free."
   ]
  },
  {
   "cell_type": "markdown",
   "metadata": {},
   "source": [
    "## Example 5\n",
    "Given:\n",
    "\n",
    "$$x_1+6x_2 + 3x_4 = 0$$\n",
    "$$3x_3 - 4x_4 = 5$$\n",
    "$$x_5 = 7$$"
   ]
  },
  {
   "cell_type": "code",
   "execution_count": 11,
   "metadata": {},
   "outputs": [
    {
     "name": "stdout",
     "output_type": "stream",
     "text": [
      "     [,1] [,2] [,3] [,4] [,5] [,6]\n",
      "[1,]    1    6    0    3    0    0\n",
      "[2,]    0    0    1   -4    0    5\n",
      "[3,]    0    0    0    0    1    7\n"
     ]
    }
   ],
   "source": [
    "a1 <- c(1,6,0,3,0,0)\n",
    "a2 <- c(0,0,1,-4,0,5)\n",
    "a3 <-  c(0,0,0,0,1,7)\n",
    "a <- c(a1,a2,a3)\n",
    "\n",
    "A <- matrix(a,nrow=3,byrow=T)\n",
    "print(A)"
   ]
  },
  {
   "cell_type": "code",
   "execution_count": 12,
   "metadata": {},
   "outputs": [
    {
     "name": "stdout",
     "output_type": "stream",
     "text": [
      "     [,1] [,2] [,3] [,4] [,5] [,6]\n",
      "[1,]    1    6    0    3    0    0\n",
      "[2,]    0    0    1   -4    0    5\n",
      "[3,]    0    0    0    0    1    7\n"
     ]
    }
   ],
   "source": [
    "print(rref(A))"
   ]
  },
  {
   "cell_type": "markdown",
   "metadata": {},
   "source": [
    "This is parametric description of solution set. Affine subspace or hyperplane.\n",
    "\n",
    "$$x_1 = -6x_2 -3x_3$$\n",
    "$$x_2 \\text{ is free}$$\n",
    "$$x_3 = 5 +4x_4$$\n",
    "$$x_4 \\text{ is free}$$\n",
    "$$x_5 = 7$$"
   ]
  },
  {
   "attachments": {
    "image.png": {
     "image/png": "[encoded data removed]"
    }
   },
   "cell_type": "markdown",
   "metadata": {},
   "source": [
    "## Example Network flow\n",
    "- The following figure shows the traffic flow (in vehicles per hour) over several one-way streets.  Determine the general flow pattern for the network.\n",
    "\n",
    "![image.png](attachment:image.png)\n"
   ]
  },
  {
   "attachments": {
    "image.png": {
     "image/png": "[encoded data removed]"
    }
   },
   "cell_type": "markdown",
   "metadata": {},
   "source": [
    "Solution:\n",
    "![image.png](attachment:image.png)"
   ]
  },
  {
   "cell_type": "code",
   "execution_count": 15,
   "metadata": {},
   "outputs": [
    {
     "name": "stdout",
     "output_type": "stream",
     "text": [
      "     [,1] [,2] [,3] [,4] [,5] [,6]\n",
      "[1,]    1    1    0    0    0  800\n",
      "[2,]    0    1   -1    1    0  300\n",
      "[3,]    0    0    0    1    1  500\n",
      "[4,]    1    0    0    0    1  600\n",
      "[5,]    0    0    1    0    0  400\n"
     ]
    }
   ],
   "source": [
    "a1 <- c(1,1,0,0,0,800)\n",
    "a2 <- c(0,1,-1,1,0,300)\n",
    "a3 <-  c(0,0,0,1,1,500)\n",
    "a4 <-  c(1,0,0,0,1,600)\n",
    "a5 <-  c(0,0,1,0,0,400)\n",
    "a <- c(a1,a2,a3,a4,a5)\n",
    "\n",
    "A <- matrix(a,nrow=5,byrow=T)\n",
    "print(A)"
   ]
  },
  {
   "cell_type": "code",
   "execution_count": 16,
   "metadata": {},
   "outputs": [
    {
     "name": "stdout",
     "output_type": "stream",
     "text": [
      "     [,1] [,2] [,3] [,4] [,5] [,6]\n",
      "[1,]    1    0    0    0    1  600\n",
      "[2,]    0    1    0    0   -1  200\n",
      "[3,]    0    0    1    0    0  400\n",
      "[4,]    0    0    0    1    1  500\n",
      "[5,]    0    0    0    0    0    0\n"
     ]
    }
   ],
   "source": [
    "print(rref(A))"
   ]
  },
  {
   "cell_type": "code",
   "execution_count": 18,
   "metadata": {},
   "outputs": [
    {
     "data": {
      "text/html": [
       "4"
      ],
      "text/latex": [
       "4"
      ],
      "text/markdown": [
       "4"
      ],
      "text/plain": [
       "[1] 4"
      ]
     },
     "metadata": {},
     "output_type": "display_data"
    }
   ],
   "source": [
    "Rank(A)"
   ]
  },
  {
   "cell_type": "markdown",
   "metadata": {},
   "source": [
    "\n",
    "\n",
    "\n",
    "\n",
    "- "
   ]
  },
  {
   "cell_type": "code",
   "execution_count": null,
   "metadata": {},
   "outputs": [],
   "source": []
  }
 ],
 "metadata": {
  "kernelspec": {
   "display_name": "R",
   "language": "R",
   "name": "ir"
  },
  "language_info": {
   "codemirror_mode": "r",
   "file_extension": ".r",
   "mimetype": "text/x-r-source",
   "name": "R",
   "pygments_lexer": "r",
   "version": "3.4.4"
  }
 },
 "nbformat": 4,
 "nbformat_minor": 2
}
