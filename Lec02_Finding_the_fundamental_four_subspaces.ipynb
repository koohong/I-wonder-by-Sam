{
 "cells": [
  {
   "cell_type": "code",
   "execution_count": 1,
   "metadata": {},
   "outputs": [
    {
     "name": "stderr",
     "output_type": "stream",
     "text": [
      "Loading required package: nlme\n",
      "far library : Modelization for Functional AutoRegressive processes\n",
      "\n",
      "version 0.6-4 (2014-12-07)\n",
      "\n",
      "\n",
      "Attaching package: ‘pracma’\n",
      "\n",
      "The following objects are masked from ‘package:Matrix’:\n",
      "\n",
      "    expm, lu, tril, triu\n",
      "\n"
     ]
    }
   ],
   "source": [
    "library(Matrix)\n",
    "library(far)\n",
    "library(MASS)\n",
    "library(pracma)"
   ]
  },
  {
   "cell_type": "code",
   "execution_count": 2,
   "metadata": {},
   "outputs": [
    {
     "data": {
      "text/html": [
       "<table>\n",
       "<tbody>\n",
       "\t<tr><td>-3</td><td> 6</td><td>-1</td><td>1 </td><td>-7</td></tr>\n",
       "\t<tr><td> 1</td><td>-2</td><td> 2</td><td>3 </td><td>-1</td></tr>\n",
       "\t<tr><td> 2</td><td>-4</td><td> 5</td><td>8 </td><td>-4</td></tr>\n",
       "</tbody>\n",
       "</table>\n"
      ],
      "text/latex": [
       "\\begin{tabular}{lllll}\n",
       "\t -3 &  6 & -1 & 1  & -7\\\\\n",
       "\t  1 & -2 &  2 & 3  & -1\\\\\n",
       "\t  2 & -4 &  5 & 8  & -4\\\\\n",
       "\\end{tabular}\n"
      ],
      "text/markdown": [
       "\n",
       "| -3 |  6 | -1 | 1  | -7 |\n",
       "|  1 | -2 |  2 | 3  | -1 |\n",
       "|  2 | -4 |  5 | 8  | -4 |\n",
       "\n"
      ],
      "text/plain": [
       "     [,1] [,2] [,3] [,4] [,5]\n",
       "[1,] -3    6   -1   1    -7  \n",
       "[2,]  1   -2    2   3    -1  \n",
       "[3,]  2   -4    5   8    -4  "
      ]
     },
     "metadata": {},
     "output_type": "display_data"
    }
   ],
   "source": [
    "A = matrix(c(-3,6,-1,1,-7,1,-2,2,3,-1,2,-4,5,8,-4),nrow=3,ncol=5,byrow=TRUE)\n",
    "A"
   ]
  },
  {
   "cell_type": "markdown",
   "metadata": {},
   "source": [
    "## Column space basis"
   ]
  },
  {
   "cell_type": "code",
   "execution_count": 5,
   "metadata": {},
   "outputs": [
    {
     "data": {
      "text/html": [
       "<table>\n",
       "<tbody>\n",
       "\t<tr><td> 0.03354216</td><td> 0.99686846</td></tr>\n",
       "\t<tr><td>-0.36102371</td><td>-0.05472854</td></tr>\n",
       "\t<tr><td>-0.93195322</td><td> 0.05707950</td></tr>\n",
       "</tbody>\n",
       "</table>\n"
      ],
      "text/latex": [
       "\\begin{tabular}{ll}\n",
       "\t  0.03354216 &  0.99686846\\\\\n",
       "\t -0.36102371 & -0.05472854\\\\\n",
       "\t -0.93195322 &  0.05707950\\\\\n",
       "\\end{tabular}\n"
      ],
      "text/markdown": [
       "\n",
       "|  0.03354216 |  0.99686846 |\n",
       "| -0.36102371 | -0.05472854 |\n",
       "| -0.93195322 |  0.05707950 |\n",
       "\n"
      ],
      "text/plain": [
       "     [,1]        [,2]       \n",
       "[1,]  0.03354216  0.99686846\n",
       "[2,] -0.36102371 -0.05472854\n",
       "[3,] -0.93195322  0.05707950"
      ]
     },
     "metadata": {},
     "output_type": "display_data"
    }
   ],
   "source": [
    "C_A = orth(A)\n",
    "C_A"
   ]
  },
  {
   "cell_type": "markdown",
   "metadata": {},
   "source": [
    "## Left Nullspace basis\n"
   ]
  },
  {
   "cell_type": "code",
   "execution_count": 7,
   "metadata": {},
   "outputs": [
    {
     "data": {
      "text/html": [
       "<table>\n",
       "<tbody>\n",
       "\t<tr><td>-0.07161149</td></tr>\n",
       "\t<tr><td>-0.93094934</td></tr>\n",
       "\t<tr><td> 0.35805744</td></tr>\n",
       "</tbody>\n",
       "</table>\n"
      ],
      "text/latex": [
       "\\begin{tabular}{l}\n",
       "\t -0.07161149\\\\\n",
       "\t -0.93094934\\\\\n",
       "\t  0.35805744\\\\\n",
       "\\end{tabular}\n"
      ],
      "text/markdown": [
       "\n",
       "| -0.07161149 |\n",
       "| -0.93094934 |\n",
       "|  0.35805744 |\n",
       "\n"
      ],
      "text/plain": [
       "     [,1]       \n",
       "[1,] -0.07161149\n",
       "[2,] -0.93094934\n",
       "[3,]  0.35805744"
      ]
     },
     "metadata": {},
     "output_type": "display_data"
    }
   ],
   "source": [
    "N_AT <- null(t(A))\n",
    "N_AT"
   ]
  },
  {
   "cell_type": "markdown",
   "metadata": {},
   "source": [
    "## Basis for output space"
   ]
  },
  {
   "cell_type": "code",
   "execution_count": 9,
   "metadata": {},
   "outputs": [
    {
     "data": {
      "text/html": [
       "<table>\n",
       "<tbody>\n",
       "\t<tr><td>1</td><td>0</td><td>0</td></tr>\n",
       "\t<tr><td>0</td><td>1</td><td>0</td></tr>\n",
       "\t<tr><td>0</td><td>0</td><td>1</td></tr>\n",
       "</tbody>\n",
       "</table>\n"
      ],
      "text/latex": [
       "\\begin{tabular}{lll}\n",
       "\t 1 & 0 & 0\\\\\n",
       "\t 0 & 1 & 0\\\\\n",
       "\t 0 & 0 & 1\\\\\n",
       "\\end{tabular}\n"
      ],
      "text/markdown": [
       "\n",
       "| 1 | 0 | 0 |\n",
       "| 0 | 1 | 0 |\n",
       "| 0 | 0 | 1 |\n",
       "\n"
      ],
      "text/plain": [
       "     [,1] [,2] [,3]\n",
       "[1,] 1    0    0   \n",
       "[2,] 0    1    0   \n",
       "[3,] 0    0    1   "
      ]
     },
     "metadata": {},
     "output_type": "display_data"
    }
   ],
   "source": [
    "OUT <- cbind(C_A, N_AT)\n",
    "rref(OUT)"
   ]
  },
  {
   "cell_type": "markdown",
   "metadata": {},
   "source": [
    "## Row space basis\n"
   ]
  },
  {
   "cell_type": "code",
   "execution_count": 11,
   "metadata": {},
   "outputs": [
    {
     "data": {
      "text/html": [
       "<table>\n",
       "<tbody>\n",
       "\t<tr><td>-0.1940942 </td><td> 0.29847614</td></tr>\n",
       "\t<tr><td> 0.3881884 </td><td>-0.59695228</td></tr>\n",
       "\t<tr><td>-0.4519731 </td><td> 0.08359359</td></tr>\n",
       "\t<tr><td>-0.7098521 </td><td>-0.13128896</td></tr>\n",
       "\t<tr><td> 0.3216637 </td><td> 0.72824124</td></tr>\n",
       "</tbody>\n",
       "</table>\n"
      ],
      "text/latex": [
       "\\begin{tabular}{ll}\n",
       "\t -0.1940942  &  0.29847614\\\\\n",
       "\t  0.3881884  & -0.59695228\\\\\n",
       "\t -0.4519731  &  0.08359359\\\\\n",
       "\t -0.7098521  & -0.13128896\\\\\n",
       "\t  0.3216637  &  0.72824124\\\\\n",
       "\\end{tabular}\n"
      ],
      "text/markdown": [
       "\n",
       "| -0.1940942  |  0.29847614 |\n",
       "|  0.3881884  | -0.59695228 |\n",
       "| -0.4519731  |  0.08359359 |\n",
       "| -0.7098521  | -0.13128896 |\n",
       "|  0.3216637  |  0.72824124 |\n",
       "\n"
      ],
      "text/plain": [
       "     [,1]       [,2]       \n",
       "[1,] -0.1940942  0.29847614\n",
       "[2,]  0.3881884 -0.59695228\n",
       "[3,] -0.4519731  0.08359359\n",
       "[4,] -0.7098521 -0.13128896\n",
       "[5,]  0.3216637  0.72824124"
      ]
     },
     "metadata": {},
     "output_type": "display_data"
    }
   ],
   "source": [
    "C_AT <- orth(t(A))\n",
    "C_AT"
   ]
  },
  {
   "cell_type": "markdown",
   "metadata": {},
   "source": [
    "## Nullspace basis\n",
    "\n",
    "- Suppose $T(\\vec{x}) = A\\vec{x}$, then the ```kernel``` or null space of such T can be found as below.\n"
   ]
  },
  {
   "cell_type": "code",
   "execution_count": 12,
   "metadata": {},
   "outputs": [
    {
     "data": {
      "text/html": [
       "<table>\n",
       "<tbody>\n",
       "\t<tr><td> 0.04416189</td><td> 0.3476413 </td><td>-0.86627634</td></tr>\n",
       "\t<tr><td> 0.41326313</td><td> 0.5658536 </td><td>-0.04450838</td></tr>\n",
       "\t<tr><td> 0.85611211</td><td>-0.2202874 </td><td> 0.08531064</td></tr>\n",
       "\t<tr><td>-0.25090190</td><td> 0.5572485 </td><td> 0.32464681</td></tr>\n",
       "\t<tr><td> 0.17715416</td><td> 0.4471048 </td><td> 0.36730213</td></tr>\n",
       "</tbody>\n",
       "</table>\n"
      ],
      "text/latex": [
       "\\begin{tabular}{lll}\n",
       "\t  0.04416189 &  0.3476413  & -0.86627634\\\\\n",
       "\t  0.41326313 &  0.5658536  & -0.04450838\\\\\n",
       "\t  0.85611211 & -0.2202874  &  0.08531064\\\\\n",
       "\t -0.25090190 &  0.5572485  &  0.32464681\\\\\n",
       "\t  0.17715416 &  0.4471048  &  0.36730213\\\\\n",
       "\\end{tabular}\n"
      ],
      "text/markdown": [
       "\n",
       "|  0.04416189 |  0.3476413  | -0.86627634 |\n",
       "|  0.41326313 |  0.5658536  | -0.04450838 |\n",
       "|  0.85611211 | -0.2202874  |  0.08531064 |\n",
       "| -0.25090190 |  0.5572485  |  0.32464681 |\n",
       "|  0.17715416 |  0.4471048  |  0.36730213 |\n",
       "\n"
      ],
      "text/plain": [
       "     [,1]        [,2]       [,3]       \n",
       "[1,]  0.04416189  0.3476413 -0.86627634\n",
       "[2,]  0.41326313  0.5658536 -0.04450838\n",
       "[3,]  0.85611211 -0.2202874  0.08531064\n",
       "[4,] -0.25090190  0.5572485  0.32464681\n",
       "[5,]  0.17715416  0.4471048  0.36730213"
      ]
     },
     "metadata": {},
     "output_type": "display_data"
    }
   ],
   "source": [
    "N_A <- nullspace(A)\n",
    "N_A"
   ]
  },
  {
   "cell_type": "markdown",
   "metadata": {},
   "source": [
    "## Basis spanning the INPUT space"
   ]
  },
  {
   "cell_type": "code",
   "execution_count": 14,
   "metadata": {},
   "outputs": [
    {
     "data": {
      "text/html": [
       "<table>\n",
       "<tbody>\n",
       "\t<tr><td>-0.1940942 </td><td> 0.29847614</td><td> 0.04416189</td><td> 0.3476413 </td><td>-0.86627634</td></tr>\n",
       "\t<tr><td> 0.3881884 </td><td>-0.59695228</td><td> 0.41326313</td><td> 0.5658536 </td><td>-0.04450838</td></tr>\n",
       "\t<tr><td>-0.4519731 </td><td> 0.08359359</td><td> 0.85611211</td><td>-0.2202874 </td><td> 0.08531064</td></tr>\n",
       "\t<tr><td>-0.7098521 </td><td>-0.13128896</td><td>-0.25090190</td><td> 0.5572485 </td><td> 0.32464681</td></tr>\n",
       "\t<tr><td> 0.3216637 </td><td> 0.72824124</td><td> 0.17715416</td><td> 0.4471048 </td><td> 0.36730213</td></tr>\n",
       "</tbody>\n",
       "</table>\n"
      ],
      "text/latex": [
       "\\begin{tabular}{lllll}\n",
       "\t -0.1940942  &  0.29847614 &  0.04416189 &  0.3476413  & -0.86627634\\\\\n",
       "\t  0.3881884  & -0.59695228 &  0.41326313 &  0.5658536  & -0.04450838\\\\\n",
       "\t -0.4519731  &  0.08359359 &  0.85611211 & -0.2202874  &  0.08531064\\\\\n",
       "\t -0.7098521  & -0.13128896 & -0.25090190 &  0.5572485  &  0.32464681\\\\\n",
       "\t  0.3216637  &  0.72824124 &  0.17715416 &  0.4471048  &  0.36730213\\\\\n",
       "\\end{tabular}\n"
      ],
      "text/markdown": [
       "\n",
       "| -0.1940942  |  0.29847614 |  0.04416189 |  0.3476413  | -0.86627634 |\n",
       "|  0.3881884  | -0.59695228 |  0.41326313 |  0.5658536  | -0.04450838 |\n",
       "| -0.4519731  |  0.08359359 |  0.85611211 | -0.2202874  |  0.08531064 |\n",
       "| -0.7098521  | -0.13128896 | -0.25090190 |  0.5572485  |  0.32464681 |\n",
       "|  0.3216637  |  0.72824124 |  0.17715416 |  0.4471048  |  0.36730213 |\n",
       "\n"
      ],
      "text/plain": [
       "     [,1]       [,2]        [,3]        [,4]       [,5]       \n",
       "[1,] -0.1940942  0.29847614  0.04416189  0.3476413 -0.86627634\n",
       "[2,]  0.3881884 -0.59695228  0.41326313  0.5658536 -0.04450838\n",
       "[3,] -0.4519731  0.08359359  0.85611211 -0.2202874  0.08531064\n",
       "[4,] -0.7098521 -0.13128896 -0.25090190  0.5572485  0.32464681\n",
       "[5,]  0.3216637  0.72824124  0.17715416  0.4471048  0.36730213"
      ]
     },
     "metadata": {},
     "output_type": "display_data"
    }
   ],
   "source": [
    "IN <- cbind(C_AT, N_A)\n",
    "IN"
   ]
  },
  {
   "cell_type": "code",
   "execution_count": 15,
   "metadata": {},
   "outputs": [
    {
     "data": {
      "text/html": [
       "<table>\n",
       "<tbody>\n",
       "\t<tr><td>1</td><td>0</td><td>0</td><td>0</td><td>0</td></tr>\n",
       "\t<tr><td>0</td><td>1</td><td>0</td><td>0</td><td>0</td></tr>\n",
       "\t<tr><td>0</td><td>0</td><td>1</td><td>0</td><td>0</td></tr>\n",
       "\t<tr><td>0</td><td>0</td><td>0</td><td>1</td><td>0</td></tr>\n",
       "\t<tr><td>0</td><td>0</td><td>0</td><td>0</td><td>1</td></tr>\n",
       "</tbody>\n",
       "</table>\n"
      ],
      "text/latex": [
       "\\begin{tabular}{lllll}\n",
       "\t 1 & 0 & 0 & 0 & 0\\\\\n",
       "\t 0 & 1 & 0 & 0 & 0\\\\\n",
       "\t 0 & 0 & 1 & 0 & 0\\\\\n",
       "\t 0 & 0 & 0 & 1 & 0\\\\\n",
       "\t 0 & 0 & 0 & 0 & 1\\\\\n",
       "\\end{tabular}\n"
      ],
      "text/markdown": [
       "\n",
       "| 1 | 0 | 0 | 0 | 0 |\n",
       "| 0 | 1 | 0 | 0 | 0 |\n",
       "| 0 | 0 | 1 | 0 | 0 |\n",
       "| 0 | 0 | 0 | 1 | 0 |\n",
       "| 0 | 0 | 0 | 0 | 1 |\n",
       "\n"
      ],
      "text/plain": [
       "     [,1] [,2] [,3] [,4] [,5]\n",
       "[1,] 1    0    0    0    0   \n",
       "[2,] 0    1    0    0    0   \n",
       "[3,] 0    0    1    0    0   \n",
       "[4,] 0    0    0    1    0   \n",
       "[5,] 0    0    0    0    1   "
      ]
     },
     "metadata": {},
     "output_type": "display_data"
    }
   ],
   "source": [
    "rref(IN)"
   ]
  },
  {
   "cell_type": "markdown",
   "metadata": {},
   "source": [
    "## Q1: What is the relationship between the basis spanning C(A) and N(A<sup>T</sup>)?"
   ]
  },
  {
   "cell_type": "markdown",
   "metadata": {},
   "source": [
    "## Q2: What is the relationship between the basis spanning C(A<sup>T</sup>) and N(A)?"
   ]
  },
  {
   "cell_type": "markdown",
   "metadata": {},
   "source": [
    "## Q3: What is the relationship between the basis spanning C(A) and C(A<sup>T</sup>)?"
   ]
  },
  {
   "cell_type": "markdown",
   "metadata": {},
   "source": [
    "## Q4: What is the relationship between the basis spanning N(A) and N(A<sup>T</sup>)?"
   ]
  },
  {
   "cell_type": "markdown",
   "metadata": {},
   "source": [
    "## Q5: If the basis spanning C(A) is given, can you find out the basis spanning N(A<sup>T</sup>)?"
   ]
  },
  {
   "cell_type": "markdown",
   "metadata": {},
   "source": [
    "## Q6: If the basis spanning C(A<sup>T</sup>) is given, can you find out the basis spanning N(A)?"
   ]
  },
  {
   "cell_type": "code",
   "execution_count": null,
   "metadata": {},
   "outputs": [],
   "source": []
  }
 ],
 "metadata": {
  "kernelspec": {
   "display_name": "R",
   "language": "R",
   "name": "ir"
  },
  "language_info": {
   "codemirror_mode": "r",
   "file_extension": ".r",
   "mimetype": "text/x-r-source",
   "name": "R",
   "pygments_lexer": "r",
   "version": "3.4.4"
  }
 },
 "nbformat": 4,
 "nbformat_minor": 2
}
