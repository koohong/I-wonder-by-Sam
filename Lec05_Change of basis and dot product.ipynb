{
 "cells": [
  {
   "cell_type": "code",
   "execution_count": 105,
   "metadata": {},
   "outputs": [],
   "source": [
    "library(Matrix)\n",
    "library(far)\n",
    "library(MASS)\n",
    "library(pracma)"
   ]
  },
  {
   "cell_type": "markdown",
   "metadata": {},
   "source": [
    "<h2 style=\"color:blue'\">  More about invertible matrix </h2>\n",
    "\n",
    "### Given: Suppose $A\\in R^{nxn}$ and $A^{-1}$ exist, then the following can be said\n",
    "- The columns of $A$ is the basis of $R^{n}$\n",
    "- rank $A$ = n\n",
    "- $Nul A=$ {$\\vec{0}$}\n",
    "- dim $Nul A$ = 0\n",
    "- $A^{-1}A=I$\n",
    "- $AA^{-1}=I$\n",
    "- The Linear transformation $\\vec{x} \\mapsto A\\vec{x}$ is one-to-one\n",
    "- $A^T$ is an invertible matrix"
   ]
  },
  {
   "cell_type": "markdown",
   "metadata": {},
   "source": [
    "<h2 style=\"color:blue'\"> Rouche-Capelli Theorem </h2>\n",
    "\n",
    "- Tells you the number of solutions in the systems of equations\n",
    "- Alfredo Capelli (5 August 1855 – 28 January 1910)\n"
   ]
  },
  {
   "cell_type": "markdown",
   "metadata": {},
   "source": [
    "### Change of basis \n",
    "\n",
    "Given:  $\\vec{y} \\notin C(A)$ , and Rank of $A$ = 2, and $\\vec{y} \\in R^3$\n",
    "\n",
    "### ```Problem:```  \n",
    "- Let $\\hat{\\vec{y}} \\subset C(A)$ where $\\vec{C}_1 \\text{ and } \\vec{C}_2$ are the basis of $C(A)$\n",
    "- Find $\\hat{\\vec{y}}$ that minimizes $||\\vec{y}-\\hat{\\vec{y}}||$"
   ]
  },
  {
   "cell_type": "markdown",
   "metadata": {},
   "source": [
    "### Solution:\n",
    "- let $C$ and $N$ be the matrix that contains the basis of $C(A)$ and $N(A^T)$\n",
    "- Since: $C\\vec{x}=\\hat{\\vec{y}} \\text{   and   } C\\vec{x} + N\\vec{z} = \\vec{y}$\n",
    "- Simplify the expression\n",
    "$$C^TC\\vec{x} = C^T\\vec{y}$$\n",
    "$$\\vec{x} = (C^TC)^{-1}C^T\\vec{y}$$\n",
    "\n",
    "- Then, $C(C^TC)^{-1}C^T\\vec{y}=\\hat{\\vec{y}}$\n",
    "- $C(C^TC)^{-1}C^T$ is called ```projection matrix```\n",
    "\n",
    "\n"
   ]
  },
  {
   "cell_type": "markdown",
   "metadata": {},
   "source": [
    "### About projection matrix\n",
    "\n",
    "$\\vec{y} = P\\vec{y} + B\\vec{y}$ <br>\n",
    "$P + B = I$\n",
    "\n",
    "\n",
    "- where  $P \\text{ and } B$ are the ```projection matrices``` for $C(A) \\text{ and } N(A^T)$"
   ]
  },
  {
   "cell_type": "markdown",
   "metadata": {},
   "source": [
    "<h2 style=\"color:blue'\"> DOT Product  </h2>\n",
    "\n",
    "$$\\hat{\\vec{y}} = P_{\\vec{u}}^{\\vec{y}} = \\frac{\\vec{y}\\centerdot\\vec{u}}{\\vec{u}\\centerdot\\vec{u}}\\vec{u}$$\n",
    "\n",
    "where <br>\n",
    "$\\vec{y}\\centerdot\\vec{u} \\text{ and } \\vec{u}\\centerdot\\vec{u}$ are scalar quantity.\n",
    "\n",
    "Projection tells you the ```length``` of the ```projected vector```, $\\hat{\\vec{y}}$ in terms of the vector that is ```being projected onto``` $\\vec{u}$"
   ]
  },
  {
   "cell_type": "code",
   "execution_count": 44,
   "metadata": {},
   "outputs": [],
   "source": [
    "# y will be projected onto u\n",
    "y <- matrix(c(7,6),nrow=2)\n",
    "u <- matrix(c(4,2),nrow=2)\n",
    "u0 <- matrix(c(16,8),nrow=2)\n"
   ]
  },
  {
   "cell_type": "markdown",
   "metadata": {},
   "source": [
    "### Using ```Projection matrix```"
   ]
  },
  {
   "cell_type": "code",
   "execution_count": 21,
   "metadata": {},
   "outputs": [
    {
     "name": "stdout",
     "output_type": "stream",
     "text": [
      "     [,1] [,2]\n",
      "[1,]  0.8  0.4\n",
      "[2,]  0.4  0.2\n"
     ]
    }
   ],
   "source": [
    "## using projection matrix\n",
    "P <- u%*%(solve(t(u)%*%u)%*%t(u))\n",
    "print(P)\n"
   ]
  },
  {
   "cell_type": "code",
   "execution_count": 19,
   "metadata": {},
   "outputs": [
    {
     "name": "stdout",
     "output_type": "stream",
     "text": [
      "     [,1]\n",
      "[1,]    8\n",
      "[2,]    4\n"
     ]
    }
   ],
   "source": [
    "print(P%*%y)"
   ]
  },
  {
   "cell_type": "markdown",
   "metadata": {},
   "source": [
    "### Using ```Projection formula``` on to $\\vec{u}$"
   ]
  },
  {
   "cell_type": "code",
   "execution_count": 37,
   "metadata": {},
   "outputs": [
    {
     "name": "stdout",
     "output_type": "stream",
     "text": [
      "     [,1]\n",
      "[1,]    8\n",
      "[2,]    4\n"
     ]
    }
   ],
   "source": [
    "print(drop((t(y)%*%u)/(t(u)%*%u))*u)"
   ]
  },
  {
   "cell_type": "code",
   "execution_count": 38,
   "metadata": {},
   "outputs": [
    {
     "name": "stdout",
     "output_type": "stream",
     "text": [
      "[1] 2\n"
     ]
    }
   ],
   "source": [
    "print(drop((t(y)%*%u)/(t(u)%*%u)))"
   ]
  },
  {
   "cell_type": "markdown",
   "metadata": {},
   "source": [
    "### Using ```Projection formula``` on to $\\vec{u}_0$"
   ]
  },
  {
   "cell_type": "code",
   "execution_count": 45,
   "metadata": {},
   "outputs": [
    {
     "name": "stdout",
     "output_type": "stream",
     "text": [
      "     [,1]\n",
      "[1,]    8\n",
      "[2,]    4\n"
     ]
    }
   ],
   "source": [
    "print(drop((t(y)%*%u0)/(t(u0)%*%u0))*u0)"
   ]
  },
  {
   "cell_type": "code",
   "execution_count": 46,
   "metadata": {},
   "outputs": [
    {
     "name": "stdout",
     "output_type": "stream",
     "text": [
      "[1] 0.5\n"
     ]
    }
   ],
   "source": [
    "print(drop((t(y)%*%u0)/(t(u0)%*%u0)))"
   ]
  },
  {
   "cell_type": "markdown",
   "metadata": {},
   "source": [
    "### Orthonormal basis"
   ]
  },
  {
   "cell_type": "code",
   "execution_count": 82,
   "metadata": {},
   "outputs": [
    {
     "name": "stdout",
     "output_type": "stream",
     "text": [
      "     [,1] [,2]\n",
      "[1,]    1    4\n",
      "[2,]    2    5\n",
      "[3,]    3    6\n",
      "          [,1]       [,2]       [,3]\n",
      "[1,] 0.2672612  0.8728716  0.4082483\n",
      "[2,] 0.5345225  0.2182179 -0.8164966\n",
      "[3,] 0.8017837 -0.4364358  0.4082483\n"
     ]
    }
   ],
   "source": [
    "mybasis <- matrix(c(1,2,3,4,5,6),nrow=3)\n",
    "print(mybasis)\n",
    "print(orthonormalization(mybasis))"
   ]
  },
  {
   "cell_type": "code",
   "execution_count": 91,
   "metadata": {},
   "outputs": [],
   "source": [
    "Z <- (orthonormalization(mybasis)) # z is orthonormal basis of codomain (I called it output space)"
   ]
  },
  {
   "cell_type": "code",
   "execution_count": 78,
   "metadata": {},
   "outputs": [
    {
     "name": "stdout",
     "output_type": "stream",
     "text": [
      "     [,1] [,2] [,3]\n",
      "[1,]    4    3    5\n",
      "[2,]    6    8   10\n",
      "[3,]    5   12   13\n"
     ]
    }
   ],
   "source": [
    "A <- matrix(c(4,3,5,6,8,10,5,12,13),nrow=3, byrow=T)\n",
    "print(A)"
   ]
  },
  {
   "cell_type": "code",
   "execution_count": 79,
   "metadata": {},
   "outputs": [
    {
     "data": {
      "text/html": [
       "<ol class=list-inline>\n",
       "\t<li>7.07106781186548</li>\n",
       "\t<li>14.142135623731</li>\n",
       "\t<li>18.3847763108502</li>\n",
       "</ol>\n"
      ],
      "text/latex": [
       "\\begin{enumerate*}\n",
       "\\item 7.07106781186548\n",
       "\\item 14.142135623731\n",
       "\\item 18.3847763108502\n",
       "\\end{enumerate*}\n"
      ],
      "text/markdown": [
       "1. 7.07106781186548\n",
       "2. 14.142135623731\n",
       "3. 18.3847763108502\n",
       "\n",
       "\n"
      ],
      "text/plain": [
       "[1]  7.071068 14.142136 18.384776"
      ]
     },
     "metadata": {},
     "output_type": "display_data"
    }
   ],
   "source": [
    "c(Norm(A[1,]),Norm(A[2,]),Norm(A[3,])) #norm of each row vectors in A (i.e., sample)"
   ]
  },
  {
   "cell_type": "code",
   "execution_count": 92,
   "metadata": {},
   "outputs": [
    {
     "name": "stdout",
     "output_type": "stream",
     "text": [
      "          [,1]     [,2]          [,3]\n",
      "[1,]  6.681531 1.963961  1.224745e+00\n",
      "[2,] 13.897585 2.618615 -6.217249e-15\n",
      "[3,] 18.173764 1.309307 -2.449490e+00\n"
     ]
    }
   ],
   "source": [
    "B <- A%*%Z\n",
    "print(B)"
   ]
  },
  {
   "cell_type": "code",
   "execution_count": 93,
   "metadata": {},
   "outputs": [
    {
     "name": "stdout",
     "output_type": "stream",
     "text": [
      "          [,1]       [,2]       [,3]\n",
      "[1,] 0.2672612  0.8728716  0.4082483\n",
      "[2,] 0.5345225  0.2182179 -0.8164966\n",
      "[3,] 0.8017837 -0.4364358  0.4082483\n"
     ]
    }
   ],
   "source": [
    "print(Z)"
   ]
  },
  {
   "cell_type": "markdown",
   "metadata": {},
   "source": [
    "### Explain the following"
   ]
  },
  {
   "cell_type": "code",
   "execution_count": 96,
   "metadata": {},
   "outputs": [
    {
     "name": "stdout",
     "output_type": "stream",
     "text": [
      "     [,1]\n",
      "[1,]    4\n",
      "[2,]    3\n",
      "[3,]    5\n"
     ]
    }
   ],
   "source": [
    "print(Z%*%B[1,])"
   ]
  },
  {
   "cell_type": "code",
   "execution_count": 97,
   "metadata": {},
   "outputs": [
    {
     "name": "stdout",
     "output_type": "stream",
     "text": [
      "     [,1]\n",
      "[1,]    6\n",
      "[2,]    8\n",
      "[3,]   10\n"
     ]
    }
   ],
   "source": [
    "print(Z%*%B[2,])"
   ]
  },
  {
   "cell_type": "code",
   "execution_count": 98,
   "metadata": {},
   "outputs": [
    {
     "name": "stdout",
     "output_type": "stream",
     "text": [
      "     [,1]\n",
      "[1,]    5\n",
      "[2,]   12\n",
      "[3,]   13\n"
     ]
    }
   ],
   "source": [
    "print(Z%*%B[3,])"
   ]
  },
  {
   "cell_type": "markdown",
   "metadata": {},
   "source": [
    "## Change of basis 1"
   ]
  },
  {
   "cell_type": "code",
   "execution_count": 99,
   "metadata": {},
   "outputs": [],
   "source": [
    "b <- c(-3,-14,-17)\n",
    "A <- matrix(c(1,1,2,0,3,1),nrow=3,byrow=T)"
   ]
  },
  {
   "cell_type": "markdown",
   "metadata": {},
   "source": [
    "### Find $A\\vec{x}=\\vec{b}$ and explain the physical meaning of $\\vec{x}$"
   ]
  },
  {
   "cell_type": "markdown",
   "metadata": {},
   "source": [
    "## Change of basis 2\n",
    "\n",
    "- $A$ is $R^{3x2}$ matrix and $rank(A)$ is 2."
   ]
  },
  {
   "cell_type": "code",
   "execution_count": 114,
   "metadata": {},
   "outputs": [
    {
     "name": "stdout",
     "output_type": "stream",
     "text": [
      "     [,1] [,2]\n",
      "[1,]  2/3 -2/3\n",
      "[2,]  1/3  2/3\n",
      "[3,]  1/3 -2/3\n"
     ]
    }
   ],
   "source": [
    "a <- c(2/3,-2/3,1/3,2/3,1/3,-2/3)\n",
    "A <- matrix(a,nrow=3,ncol=2,byrow=T)\n",
    "print(fractions(A))\n"
   ]
  },
  {
   "cell_type": "markdown",
   "metadata": {},
   "source": [
    "### plot $C(A)$ and $E$"
   ]
  },
  {
   "cell_type": "code",
   "execution_count": 115,
   "metadata": {},
   "outputs": [],
   "source": [
    "k <- rnorm(10000,5,5)\n",
    "myData <- matrix(k,nrow=2,ncol=5000,byrow=T)\n",
    "c_A <- A%*%myData"
   ]
  },
  {
   "cell_type": "code",
   "execution_count": 122,
   "metadata": {},
   "outputs": [],
   "source": [
    "C = orthonormalization(tempC)\n",
    "GS_A<- cbind(GS[,1],GS[,2])  #orthonormalized basis spanning C(A)\n",
    "E <- GS_A%*%myData\n"
   ]
  },
  {
   "cell_type": "markdown",
   "metadata": {},
   "source": [
    "- $\\vec{b} \\notin C(A)$ and suppose I want to flip $\\vec{b}$ with respect to $C(A)$\n",
    "- How would you develop the transformation matrix that flips $\\vec{b}_0$?"
   ]
  },
  {
   "cell_type": "code",
   "execution_count": 121,
   "metadata": {},
   "outputs": [
    {
     "name": "stdout",
     "output_type": "stream",
     "text": [
      "     [,1] [,2] [,3]\n",
      "[1,]    1    0    0\n",
      "[2,]    0    1    0\n",
      "[3,]    0    0    1\n"
     ]
    }
   ],
   "source": [
    "b0 <- matrix(c(10,10,10),nrow=3)\n",
    "B <- cbind(A,b0)\n",
    "print(rref(B))"
   ]
  },
  {
   "cell_type": "markdown",
   "metadata": {},
   "source": [
    "- Let $D$ transformation matrix that is expressed in terms of the basis spanning $C(A)$ and $N(A^T)$\n",
    "- Then, \n",
    "\n",
    "\n",
    "\\begin{equation}\n",
    "D = \\left(\n",
    "\\begin{array}{cccc}\n",
    "1 & 0 &  0 \\\\\n",
    "0 & 1 &  0 \\\\\n",
    "0 & 0 &-1 \\\\\n",
    "\\end{array}\n",
    "\\right)\n",
    "\\end{equation}\n",
    "\n",
    "- Let $\\vec{b}_{1C}$ be the flipped vector whose coordiate is expressed in terms of basis spanning $C(A)$ and $N(A^T)$\n",
    "- $T\\vec{b}_0=\\vec{b}_{\\text{1standard basis}}$ and $D\\vec{b}_{0C} = \\vec{b}_{1C}$\n",
    "- Then, using \n",
    " - $\\vec{b}_{0C} = \\text{[0 0 1]}^T$ and\n",
    " - $\\vec{b}_{0} = \\text{[10 10 10]}^T$ and\n",
    " - $C$ and $D$, we can get $T$\n",
    " \n",
    "### Find $\\vec{b}_{\\text{1standard basis}}$"
   ]
  },
  {
   "cell_type": "code",
   "execution_count": 126,
   "metadata": {},
   "outputs": [
    {
     "name": "stdout",
     "output_type": "stream",
     "text": [
      "     [,1] [,2] [,3]\n",
      "[1,]    1    0    0\n",
      "[2,]    0    1    0\n",
      "[3,]    0    0   -1\n",
      "          [,1]\n",
      "[1,] 15.714286\n",
      "[2,]  7.142857\n",
      "[3,]  1.428571\n"
     ]
    }
   ],
   "source": [
    "D <- matrix(c(1,0,0,0,1,0,0,0,-1), nrow=3, byrow=T)\n",
    "print(D)\n",
    "T <- C%*%D%*%inv(C)\n",
    "print(T%*%b0)"
   ]
  },
  {
   "cell_type": "markdown",
   "metadata": {},
   "source": [
    "## Change of basis is useful\n",
    "- Developing transformation matrix\n",
    "- Evaluating long term behavior of the transformation matrix\n",
    "- Understanding how the initial state will evolve over time\n",
    "- Determining the influence of each basis of $C(A^T)$ to the $C(A)$"
   ]
  },
  {
   "cell_type": "markdown",
   "metadata": {},
   "source": [
    "## Question\n",
    "\n",
    "- Explains what happens when you project $\\vec{x}$ onto\n",
    "  - basis that are not orthogonal\n",
    "  - basis that are orthogonal, but not normal\n",
    "  - basis that are orthonormal\n",
    "and add the projected vector."
   ]
  },
  {
   "cell_type": "code",
   "execution_count": null,
   "metadata": {},
   "outputs": [],
   "source": []
  }
 ],
 "metadata": {
  "kernelspec": {
   "display_name": "R",
   "language": "R",
   "name": "ir"
  },
  "language_info": {
   "codemirror_mode": "r",
   "file_extension": ".r",
   "mimetype": "text/x-r-source",
   "name": "R",
   "pygments_lexer": "r",
   "version": "3.4.4"
  }
 },
 "nbformat": 4,
 "nbformat_minor": 2
}
